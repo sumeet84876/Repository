{
  "nbformat": 4,
  "nbformat_minor": 0,
  "metadata": {
    "colab": {
      "provenance": []
    },
    "kernelspec": {
      "name": "python3",
      "display_name": "Python 3"
    },
    "language_info": {
      "name": "python"
    }
  },
  "cells": [
    {
      "cell_type": "markdown",
      "source": [
        "Python Basic Qusetions"
      ],
      "metadata": {
        "id": "s6ZpCoZpd8YF"
      }
    },
    {
      "cell_type": "markdown",
      "source": [
        "1. What is python, and why is it popular?\n",
        "\n",
        "      => Python is a programming language that is easy to use. It is popular because it is widely used in industry, and have lot of libraries such as numpy, pandas.\n",
        "      \n",
        "2. what is an interperter in python?\n",
        "\n",
        "      => In python a interperter is a program that executes the python code line by line without even compile entire code.\n",
        "\n",
        "3. what are pre-defined keywords in python?\n",
        "\n",
        "      => pre-defined keywords are reserved keywords that have special meaning and cannot be use as variables name etc.keywords are case sensetive.\n",
        "\n",
        "4. Can keywords be used as variables names?\n",
        "\n",
        "      => No keywords cannot be used as variables names.\n",
        "\n",
        "5. what is mutability in python?\n",
        "\n",
        "      => mutability-> Objects/variables whose state value can be change after they are created known as mutability. It supports item assignment. example- list.\n",
        "\n",
        "6. why are the list mutable, but tuples are immutable?\n",
        "\n",
        "      => List is mutable because list are designed to be dynamic allowling nodifacation after creation. while Tuples are designed to be fixed sequence of elements.\n",
        "\n",
        "7. What are difference between \"==\" and \"is\" operators in python?\n",
        "\n",
        "      => \"==\" is a comprasion operator used to compare two objects and returns true if both the value are equal otherwise it returns false.\n",
        "\n",
        "      \"is\" it is a identyfier operator use to compare the location of two variables meaning it it checks if two variables contains same value.\n",
        "\n",
        "8. what are logical operators in python?\n",
        "\n",
        "       => Logical operators combine conditional statement and return true or false based on their truth value. there are three logical operators\n",
        "       1. AND -> returns trus if both values are true.\n",
        "       2. OR -> returns true if atleast one condition is true.\n",
        "       3. NOT -> returns the true if the statement is false.\n",
        "\n",
        "9. what is typecasting in python?\n",
        "    \n",
        "        => Typecasting is the process of changing datatypes of an value or object. provides built in functions like:- int(), float(), str() etc.\n",
        "\n",
        "10. what is the difference between implicit and explicit in python?\n",
        "        \n",
        "        => Implicit typecasting -> Python interperter understand the datatype by its own and can convert datatype without any instruction from programmer.\n",
        "\n",
        "           Explicit -> In explicit user can change the datatype of object/value by using in built functions like:- int, float, str, bool etc.\n",
        "\n",
        "11. What is purpose of conditional statement in python?\n",
        "\n",
        "         => The purpose of conditional statement is to execute code based on the evaluation of one or more condition. python programming language supports conditional statements such as if, elif, else, elseif.\n",
        "\n",
        "12. how does the elif statement works?\n",
        "\n",
        "         => the elif condition allows to check multiple conditions. If the if statement is false then interperter moves to the elif statement and analyze the condition and if elif condition is true the code block will executed and entire if, elif and else block will execute.\n",
        "\n",
        "13. what is difference between for and while loop?\n",
        "\n",
        "         => While loop -> Repeatedly execute block of code untill condition is met.\n",
        "         \n",
        "         => For loop -> for loop iterating over sequence of elements.\n",
        "\n",
        "14. Describe a scenario where a while loop is more sutable than a for loop ?\n",
        "     \n",
        "         => Scenario.>> If we want to keep asking the user for input untill they type \"exit\" we can't decide in advance how many times th user will type in this case a while loop is best choice.\n"
      ],
      "metadata": {
        "id": "FOk7Fr8efy2x"
      }
    },
    {
      "cell_type": "markdown",
      "source": [
        "**PRACTICAL QUSETIONS**\n",
        "\n",
        "1. Write a python program to print \"hellow world\"?\n"
      ],
      "metadata": {
        "id": "_dH3J2VutNTc"
      }
    },
    {
      "cell_type": "code",
      "execution_count": null,
      "metadata": {
        "id": "q5rzokfWduyz",
        "colab": {
          "base_uri": "https://localhost:8080/"
        },
        "outputId": "ef0893e3-4bdc-4ac6-e2a4-e46ea52f377d"
      },
      "outputs": [
        {
          "output_type": "stream",
          "name": "stdout",
          "text": [
            "Hello world\n"
          ]
        }
      ],
      "source": [
        " print(\"Hello world\")"
      ]
    },
    {
      "cell_type": "markdown",
      "source": [
        "2. Write a python program to display your name and age?"
      ],
      "metadata": {
        "id": "x8szylJVwIs9"
      }
    },
    {
      "cell_type": "code",
      "source": [
        "name = input(\"enter your name\")\n",
        "age = input(\"enter your age\")\n",
        "print(f\"my name is {name} and i am {age} years old\")"
      ],
      "metadata": {
        "colab": {
          "base_uri": "https://localhost:8080/"
        },
        "id": "3P6oE2TTwBBZ",
        "outputId": "fe482633-037f-44a3-cb1c-f2643712be8d"
      },
      "execution_count": null,
      "outputs": [
        {
          "output_type": "stream",
          "name": "stdout",
          "text": [
            "enter your namesumeet\n",
            "enter your age22\n",
            "my name is sumeet and i am 22 years old\n"
          ]
        }
      ]
    },
    {
      "cell_type": "markdown",
      "source": [
        "3. Write code to print all pre defined keywords in python using the keyword library?"
      ],
      "metadata": {
        "id": "50oBp16jw6oT"
      }
    },
    {
      "cell_type": "code",
      "source": [
        "import keyword\n",
        "print(keyword.kwlist)"
      ],
      "metadata": {
        "colab": {
          "base_uri": "https://localhost:8080/"
        },
        "id": "aZDrM6tTxOEa",
        "outputId": "19671204-73c7-42b6-c2d7-07471e2f9a5e"
      },
      "execution_count": null,
      "outputs": [
        {
          "output_type": "stream",
          "name": "stdout",
          "text": [
            "['False', 'None', 'True', 'and', 'as', 'assert', 'async', 'await', 'break', 'class', 'continue', 'def', 'del', 'elif', 'else', 'except', 'finally', 'for', 'from', 'global', 'if', 'import', 'in', 'is', 'lambda', 'nonlocal', 'not', 'or', 'pass', 'raise', 'return', 'try', 'while', 'with', 'yield']\n"
          ]
        }
      ]
    },
    {
      "cell_type": "markdown",
      "source": [
        "4. write a program that checks if the given word is python is a python keyword?"
      ],
      "metadata": {
        "id": "VI5a6nP20d1h"
      }
    },
    {
      "cell_type": "code",
      "source": [
        "# we have to import keyword library.\n",
        "import keyword\n",
        "check_keyword = input(\"enter your word\")\n",
        "if keyword.iskeyword(check_keyword): #iskeyword()>> to check the input string is keyword or not.\n",
        "  print(f\"{check_keyword} is python keyword\")\n",
        "else:\n",
        "    print(f\"{check_keyword} is not python keyword\")"
      ],
      "metadata": {
        "colab": {
          "base_uri": "https://localhost:8080/"
        },
        "id": "BXTEuC8m06mA",
        "outputId": "e4a39d67-718b-48d8-98a1-8a23bf0d722b"
      },
      "execution_count": null,
      "outputs": [
        {
          "output_type": "stream",
          "name": "stdout",
          "text": [
            "enter your wordsumeet\n",
            "sumeet is not python keyword\n"
          ]
        }
      ]
    },
    {
      "cell_type": "markdown",
      "source": [
        "5. Create a list and tuple in python and demonstrate how attempting to change an element works differently for each?"
      ],
      "metadata": {
        "id": "Z6mTWK_Q5IYI"
      }
    },
    {
      "cell_type": "code",
      "source": [
        "list=[1,2,3,\"sumeet\",\"rawat\"]\n",
        "tuple=(\"sahil\",\"rana\",1,2,3)\n",
        "list [0]=7\n",
        "print(list)\n",
        "tuple[1]=rahul # it will give error because tuple cannot be change.\n",
        "print(tuple)"
      ],
      "metadata": {
        "colab": {
          "base_uri": "https://localhost:8080/",
          "height": 211
        },
        "id": "uH9HXkWe32Y_",
        "outputId": "960c5275-7316-4d57-c0a7-274cab77f632"
      },
      "execution_count": null,
      "outputs": [
        {
          "output_type": "stream",
          "name": "stdout",
          "text": [
            "[7, 2, 3, 'sumeet', 'rawat']\n"
          ]
        },
        {
          "output_type": "error",
          "ename": "NameError",
          "evalue": "name 'rahul' is not defined",
          "traceback": [
            "\u001b[0;31m---------------------------------------------------------------------------\u001b[0m",
            "\u001b[0;31mNameError\u001b[0m                                 Traceback (most recent call last)",
            "\u001b[0;32m/tmp/ipython-input-5-3188278125.py\u001b[0m in \u001b[0;36m<cell line: 0>\u001b[0;34m()\u001b[0m\n\u001b[1;32m      3\u001b[0m \u001b[0mlist\u001b[0m \u001b[0;34m[\u001b[0m\u001b[0;36m0\u001b[0m\u001b[0;34m]\u001b[0m\u001b[0;34m=\u001b[0m\u001b[0;36m7\u001b[0m\u001b[0;34m\u001b[0m\u001b[0;34m\u001b[0m\u001b[0m\n\u001b[1;32m      4\u001b[0m \u001b[0mprint\u001b[0m\u001b[0;34m(\u001b[0m\u001b[0mlist\u001b[0m\u001b[0;34m)\u001b[0m\u001b[0;34m\u001b[0m\u001b[0;34m\u001b[0m\u001b[0m\n\u001b[0;32m----> 5\u001b[0;31m \u001b[0mtuple\u001b[0m\u001b[0;34m[\u001b[0m\u001b[0;36m1\u001b[0m\u001b[0;34m]\u001b[0m\u001b[0;34m=\u001b[0m\u001b[0mrahul\u001b[0m \u001b[0;31m# it will give error because tuple cannot be change.\u001b[0m\u001b[0;34m\u001b[0m\u001b[0;34m\u001b[0m\u001b[0m\n\u001b[0m\u001b[1;32m      6\u001b[0m \u001b[0mprint\u001b[0m\u001b[0;34m(\u001b[0m\u001b[0mtuple\u001b[0m\u001b[0;34m)\u001b[0m\u001b[0;34m\u001b[0m\u001b[0;34m\u001b[0m\u001b[0m\n",
            "\u001b[0;31mNameError\u001b[0m: name 'rahul' is not defined"
          ]
        }
      ]
    },
    {
      "cell_type": "markdown",
      "source": [
        "6. Write a function to demonstrate the behavior of mutable and immutable arguments ?"
      ],
      "metadata": {
        "id": "p-WaasGoslo3"
      }
    },
    {
      "cell_type": "code",
      "source": [
        "#Behaviour of mutable\n",
        "list = [1,2,3,\"sumeet\",5.5]\n",
        "print(list) #before  change of element.\n",
        "list[0] = \"rawat\" # after change of element\n",
        "print(list)"
      ],
      "metadata": {
        "colab": {
          "base_uri": "https://localhost:8080/"
        },
        "id": "E6Qi3zS8tPS6",
        "outputId": "62885516-40b0-4073-be71-8268293d71e7"
      },
      "execution_count": 15,
      "outputs": [
        {
          "output_type": "stream",
          "name": "stdout",
          "text": [
            "[1, 2, 3, 'sumeet', 5.5]\n",
            "['rawat', 2, 3, 'sumeet', 5.5]\n"
          ]
        }
      ]
    },
    {
      "cell_type": "code",
      "source": [
        "#Behaviour of immutable\n",
        "tuple = (1,2,3,5.5,\"apple\")\n",
        "tuple[1] = \"9\" # immutable\n",
        "print(tuple)"
      ],
      "metadata": {
        "colab": {
          "base_uri": "https://localhost:8080/",
          "height": 193
        },
        "id": "koq4norUuApd",
        "outputId": "8a932dce-9ad1-4b36-b10b-5d1648890f8f"
      },
      "execution_count": 16,
      "outputs": [
        {
          "output_type": "error",
          "ename": "TypeError",
          "evalue": "'tuple' object does not support item assignment",
          "traceback": [
            "\u001b[0;31m---------------------------------------------------------------------------\u001b[0m",
            "\u001b[0;31mTypeError\u001b[0m                                 Traceback (most recent call last)",
            "\u001b[0;32m/tmp/ipython-input-16-2968350277.py\u001b[0m in \u001b[0;36m<cell line: 0>\u001b[0;34m()\u001b[0m\n\u001b[1;32m      1\u001b[0m \u001b[0;31m#Behaviour of immutable\u001b[0m\u001b[0;34m\u001b[0m\u001b[0;34m\u001b[0m\u001b[0m\n\u001b[1;32m      2\u001b[0m \u001b[0mtuple\u001b[0m \u001b[0;34m=\u001b[0m \u001b[0;34m(\u001b[0m\u001b[0;36m1\u001b[0m\u001b[0;34m,\u001b[0m\u001b[0;36m2\u001b[0m\u001b[0;34m,\u001b[0m\u001b[0;36m3\u001b[0m\u001b[0;34m,\u001b[0m\u001b[0;36m5.5\u001b[0m\u001b[0;34m,\u001b[0m\u001b[0;34m\"apple\"\u001b[0m\u001b[0;34m)\u001b[0m\u001b[0;34m\u001b[0m\u001b[0;34m\u001b[0m\u001b[0m\n\u001b[0;32m----> 3\u001b[0;31m \u001b[0mtuple\u001b[0m\u001b[0;34m[\u001b[0m\u001b[0;36m1\u001b[0m\u001b[0;34m]\u001b[0m \u001b[0;34m=\u001b[0m \u001b[0;34m\"9\"\u001b[0m\u001b[0;34m\u001b[0m\u001b[0;34m\u001b[0m\u001b[0m\n\u001b[0m\u001b[1;32m      4\u001b[0m \u001b[0mprint\u001b[0m\u001b[0;34m(\u001b[0m\u001b[0mtuple\u001b[0m\u001b[0;34m)\u001b[0m\u001b[0;34m\u001b[0m\u001b[0;34m\u001b[0m\u001b[0m\n",
            "\u001b[0;31mTypeError\u001b[0m: 'tuple' object does not support item assignment"
          ]
        }
      ]
    },
    {
      "cell_type": "markdown",
      "source": [
        "7. Write a programe that performs basic arithmatic operations on two user input numbers?"
      ],
      "metadata": {
        "id": "ypGCXd_vHJXh"
      }
    },
    {
      "cell_type": "code",
      "source": [
        "num1 = int(input(\"enter the first number\"))\n",
        "num2 = int(input(\"enter the second number\"))\n",
        "operator=input(\"enter your choice +,-,*,/\")\n",
        "print(\"Addition\",num1 + num2)\n",
        "print(\"subtraction\",num1 - num2)\n",
        "print(\"Multiplaction\",num1 * num2)\n",
        "print(\"Division\",num1 / num2)"
      ],
      "metadata": {
        "colab": {
          "base_uri": "https://localhost:8080/"
        },
        "id": "rGPAYpqjHZQ9",
        "outputId": "4e3ce229-545d-42da-d048-f9e50fe096b2"
      },
      "execution_count": 18,
      "outputs": [
        {
          "output_type": "stream",
          "name": "stdout",
          "text": [
            "enter the first number5\n",
            "enter the second number5\n",
            "enter your choice +,-,*,/+\n",
            "Addition 10\n"
          ]
        }
      ]
    },
    {
      "cell_type": "markdown",
      "source": [
        "8. write a programe to demonstrate the use of logical operators?"
      ],
      "metadata": {
        "id": "B-BV_wSm9GlF"
      }
    },
    {
      "cell_type": "code",
      "source": [
        "#AND LOGICAL OPERATOR.\n",
        "print(10>5 and 10>5)# print true if both the condition are true.\n",
        "print(10<5 and 10>5)# print false if one condition is false.\n",
        "print(10>5 and 10<5)\n",
        "print(10>5 and 10<5)"
      ],
      "metadata": {
        "colab": {
          "base_uri": "https://localhost:8080/"
        },
        "id": "nvqb14oF-mNo",
        "outputId": "77b4682f-a9a0-40c3-c922-52c6fbf18373"
      },
      "execution_count": 21,
      "outputs": [
        {
          "output_type": "stream",
          "name": "stdout",
          "text": [
            "True\n",
            "False\n",
            "False\n",
            "False\n"
          ]
        }
      ]
    },
    {
      "cell_type": "code",
      "source": [
        "#OR LOGICAL OPERATOR.\n",
        "print(10<5 or 10<5)#print false if both condition are false.\n",
        "print(10>5 or 10<5)#print true if atleast one condition is true.\n",
        "print(10>5 or 10<5)\n",
        "print(10>5 or 10<5)"
      ],
      "metadata": {
        "colab": {
          "base_uri": "https://localhost:8080/"
        },
        "id": "EdHL1GFQxFg_",
        "outputId": "03170705-dc72-4c90-9319-451d2f35898a"
      },
      "execution_count": 31,
      "outputs": [
        {
          "output_type": "stream",
          "name": "stdout",
          "text": [
            "False\n",
            "True\n",
            "True\n",
            "True\n"
          ]
        }
      ]
    },
    {
      "cell_type": "code",
      "source": [
        "#NOT LOGICAL OPERATOR.\n",
        "print(not(10>5))#Reverse the condition if condition is true it will print false.\n",
        "print(not(10<5))#And if yhe condition is false it will print true.\n",
        "print(not(10>5))\n",
        "print(not(10<5))"
      ],
      "metadata": {
        "colab": {
          "base_uri": "https://localhost:8080/"
        },
        "id": "c9Hhi_yOxyri",
        "outputId": "37af67c2-f9bc-4599-933e-0ac6f499080c"
      },
      "execution_count": 38,
      "outputs": [
        {
          "output_type": "stream",
          "name": "stdout",
          "text": [
            "False\n",
            "True\n",
            "False\n",
            "True\n"
          ]
        }
      ]
    },
    {
      "cell_type": "markdown",
      "source": [
        "9. Write a python program to convert user input from string to integer, float, and bool types?"
      ],
      "metadata": {
        "id": "MjQxjYs-CrWJ"
      }
    },
    {
      "cell_type": "code",
      "source": [
        "string1 = input(\"enter the string \")\n",
        "string2 = input(\"enter the second string \")\n",
        "string3 = input(\"enter the third string \")\n",
        "print(type(string1))\n",
        "print(type(string2))\n",
        "print(type(string3))\n",
        "print()\n",
        "print(type(int(string1)))\n",
        "print(type(float(string2)))\n",
        "print(type(bool(string3)))\n"
      ],
      "metadata": {
        "colab": {
          "base_uri": "https://localhost:8080/"
        },
        "id": "bbvaCi33DOwK",
        "outputId": "d3248ffb-401b-45e7-dd31-38ee22eaad43"
      },
      "execution_count": null,
      "outputs": [
        {
          "output_type": "stream",
          "name": "stdout",
          "text": [
            "enter the string 10\n",
            "enter the second string 5.5\n",
            "enter the third string sumeet\n",
            "<class 'str'>\n",
            "<class 'str'>\n",
            "<class 'str'>\n",
            "\n",
            "<class 'int'>\n",
            "<class 'float'>\n",
            "<class 'bool'>\n"
          ]
        }
      ]
    },
    {
      "cell_type": "markdown",
      "source": [
        "10. Write a code to demonstrate typecasting with list elements?"
      ],
      "metadata": {
        "id": "EH0CQr54HgAy"
      }
    },
    {
      "cell_type": "code",
      "source": [
        "list = [1, 2, 3, \"apple\" ,\"ball\" ,5.5]\n",
        "list[0] = float(list[0])\n",
        "print(type(list[0]))\n",
        "print()\n",
        "list[3]= bool(list[3])\n",
        "print(type(list[3]))\n",
        "print()\n",
        "list[5]= int(list[5])\n",
        "print(type(list[5]))\n",
        "print()\n",
        "print(list)"
      ],
      "metadata": {
        "colab": {
          "base_uri": "https://localhost:8080/"
        },
        "id": "FeyMS52qHyiG",
        "outputId": "70c16b0e-8723-4334-9996-d9c0080ec0a6"
      },
      "execution_count": null,
      "outputs": [
        {
          "output_type": "stream",
          "name": "stdout",
          "text": [
            "<class 'float'>\n",
            "\n",
            "<class 'bool'>\n",
            "\n",
            "<class 'int'>\n",
            "\n",
            "[1.0, 2, 3, True, 'ball', 5]\n"
          ]
        }
      ]
    },
    {
      "cell_type": "markdown",
      "source": [
        "11. Write a programe that checks if number is positive negative or zero?"
      ],
      "metadata": {
        "id": "DMk3L9r6LZnm"
      }
    },
    {
      "cell_type": "code",
      "source": [
        "num = int(input(\"enter a number\"))\n",
        "if num > 0:\n",
        "  print(\"positive number\")\n",
        "elif num < 0:\n",
        "  print(\"negative number\")\n",
        "else:\n",
        "  print(\"number is zero\")"
      ],
      "metadata": {
        "colab": {
          "base_uri": "https://localhost:8080/"
        },
        "id": "TgaETW8nLrTO",
        "outputId": "30e99145-4282-4a0d-f6d4-0def32e772da"
      },
      "execution_count": null,
      "outputs": [
        {
          "output_type": "stream",
          "name": "stdout",
          "text": [
            "enter a number5\n",
            "positive number\n"
          ]
        }
      ]
    },
    {
      "cell_type": "markdown",
      "source": [
        "12. Write a for loop to print number from 1 to 10?"
      ],
      "metadata": {
        "id": "5l6hEaEpNU3U"
      }
    },
    {
      "cell_type": "code",
      "source": [
        "for i in range(1,11):\n",
        "  print(i)"
      ],
      "metadata": {
        "colab": {
          "base_uri": "https://localhost:8080/"
        },
        "id": "xvQoZ_YINrj0",
        "outputId": "99e58e2e-05a9-4f21-cf30-1f1e051cbc1a"
      },
      "execution_count": null,
      "outputs": [
        {
          "output_type": "stream",
          "name": "stdout",
          "text": [
            "1\n",
            "2\n",
            "3\n",
            "4\n",
            "5\n",
            "6\n",
            "7\n",
            "8\n",
            "9\n",
            "10\n"
          ]
        }
      ]
    },
    {
      "cell_type": "markdown",
      "source": [
        "13. Write a python programe to find the sum of all even numbers between 1 and 50 ?"
      ],
      "metadata": {
        "id": "cM2UqpuGN5hJ"
      }
    },
    {
      "cell_type": "code",
      "source": [
        "sum=0\n",
        "for i in range(2, 50,2):\n",
        " # if(i%2==0):\n",
        "    print(i)\n",
        "    sum+=i\n",
        "print(\"sum\",sum)\n",
        "\n"
      ],
      "metadata": {
        "colab": {
          "base_uri": "https://localhost:8080/"
        },
        "id": "hHOWHFpCOOrU",
        "outputId": "7bdbe02c-5e4f-4318-e356-061572c33f01"
      },
      "execution_count": null,
      "outputs": [
        {
          "output_type": "stream",
          "name": "stdout",
          "text": [
            "2\n",
            "4\n",
            "6\n",
            "8\n",
            "10\n",
            "12\n",
            "14\n",
            "16\n",
            "18\n",
            "20\n",
            "22\n",
            "24\n",
            "26\n",
            "28\n",
            "30\n",
            "32\n",
            "34\n",
            "36\n",
            "38\n",
            "40\n",
            "42\n",
            "44\n",
            "46\n",
            "48\n",
            "sum 600\n"
          ]
        }
      ]
    },
    {
      "cell_type": "markdown",
      "source": [
        "14. Write a programe to reverse the string using while loop ?"
      ],
      "metadata": {
        "id": "-jkMkLSVbAb6"
      }
    },
    {
      "cell_type": "code",
      "source": [
        "text = \"hello\"\n",
        "reversed_text = \"\"\n",
        "i = len(text) - 1\n",
        "while i>=0:\n",
        "  reversed_text += text[i]\n",
        "  i -= 1\n",
        "\n",
        "print(\"reversed text:\" , reversed_text)"
      ],
      "metadata": {
        "colab": {
          "base_uri": "https://localhost:8080/"
        },
        "id": "3VxMaggRgJZn",
        "outputId": "4931532c-ccc3-4945-9fb1-0de1b35909e8"
      },
      "execution_count": 12,
      "outputs": [
        {
          "output_type": "stream",
          "name": "stdout",
          "text": [
            "reversed text: olleh\n"
          ]
        }
      ]
    }
  ]
}