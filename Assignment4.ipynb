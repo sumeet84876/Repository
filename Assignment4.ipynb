{
  "nbformat": 4,
  "nbformat_minor": 0,
  "metadata": {
    "colab": {
      "provenance": []
    },
    "kernelspec": {
      "name": "python3",
      "display_name": "Python 3"
    },
    "language_info": {
      "name": "python"
    }
  },
  "cells": [
    {
      "cell_type": "markdown",
      "source": [
        "Python OOPs Questions:-\n",
        "\n",
        "1. What is Object-Oriented Programming (OOP)?\n",
        "\n",
        "   => object oriented programming oop where data structures or object are defined each with its own properties or attributes.\n",
        "\n",
        "2. What is a class in OOP?\n",
        "\n",
        "   => classes are blueprint or templets for creating an object.\n",
        "\n",
        "3. What is an object in OOP?\n",
        "\n",
        "   => An object is a fundamental unit that represent real world entity or concept within program. it combine data and behaviour into single unit.\n",
        "\n",
        "4. What is the difference between abstraction and encapsulation?\n",
        "\n",
        "   => Abstraction = concept of hiding complex implementation. Hiding uneeded details and exposing requried.\n",
        "\n",
        "   => Encapsulation = Encapsulation means hiding somthing and exposing controled interface for using it.\n",
        "\n",
        "5. What are dunder methods in Python?\n",
        "\n",
        "   => Dunder methods also called magic methods are methods that are defined by built in classes in python.\n",
        "\n",
        "6. Explain the concept of inheritance in OOP?\n",
        "\n",
        "   => inheritance where subclass or derived class inherit properties (methods or attributes) of superclass or base class.\n",
        "\n",
        "7. What is polymorphism in OOP?\n",
        "\n",
        "   => polymorphism refers to an object taking several forms depending on method or data.\n",
        "\n",
        "8. How is encapsulation achieved in Python?\n",
        "\n",
        "   => encapsulation in python is achived by restricting direct access to internal data (attribute) and methods of class exposing necessary data through public interface.\n",
        "\n",
        "9. What is a constructor in Python?\n",
        "\n",
        "   => constructor in python is automatically called when you create an object of class it main objective to initialize object attribute or variable with some values.\n",
        "\n",
        "10. What are class and static methods in Python?\n",
        "\n",
        "   => class are blue print or templets for creating an object.\n",
        "\n",
        "   => static methods behaves like a plane function that belongs to class.\n",
        "\n",
        "11. What is method overloading in Python?\n",
        "\n",
        "   => Method overloading mean defining multiple methods with same name but different parameters. Python dose not support method overloading like other programming language.\n",
        "\n",
        "12. What is method overriding in OOP?\n",
        "\n",
        "   => Method in superclass or (parent class) and sub class (child class) have same name and parameters the sub class it automatically replace the parent method when called from object of subclass.\n",
        "\n",
        "13. What is a property decorator in Python?\n",
        "\n",
        "   => It allows method to be assessed as attribute.\n",
        "\n",
        "14.  Why is polymorphism important in OOP?\n",
        "\n",
        "   => Polymorphism is important in Object-Oriented Programming (OOP) because it allows objects of different classes to be treated as objects of a common superclass.\n",
        "\n",
        "15. What is an abstract class in Python?\n",
        "\n",
        "   => An abstract class in Python is a class that cannot be instantiated directly. It's designed to be a blueprint for other classes, and it can define abstract methods that must be implemented by any subclass.\n",
        "\n",
        "16. What are the advantages of OOP?\n",
        "\n",
        "   => it helps to arrange functions.\n",
        "     \n",
        "   => classes can be reused accross different programs.\n",
        "\n",
        "   => making changes in code is easier due to clear structure.\n",
        "\n",
        "   => have same interface but different behaviour.\n",
        "\n",
        "17. What is the difference between a class variable and an instance variable?\n",
        "\n",
        "   => class variable - belongs to class itself not to any method.\n",
        "      2. defined outside method but inside class.\n",
        "\n",
        "   => instance variable - belongs to object (instance)\n",
        "   2. defined inside method using self.\n",
        "\n",
        "18.  What is multiple inheritance in Python?\n",
        "\n",
        "   => multiple inheritance where one subclass(child class) inherit multiple superclass(parent class)\n",
        "\n",
        "19. Explain the purpose of ‘’__str__’ and ‘__repr__’ ‘ methods in Python?\n",
        "\n",
        "   => __str__ - it will return string representation of method.\n",
        "\n",
        "     __repr__ - representation of object as it is that can be used to recreat object.\n",
        "\n",
        "20. What is the significance of the ‘super()’ function in Python?\n",
        "\n",
        "  => it says that give me method or data associated with superclass.\n",
        "\n",
        "21. What is the significance of the __del__ method in Python?\n",
        "\n",
        "  => it is known as distructor automatically call when a object is about to destroy.\n",
        "\n",
        "22. What is the difference between @staticmethod and @classmethod in Python?\n",
        "\n",
        "   => @staticmethod - dose not modify class or instance state.\n",
        "      2. dosent depends on class or instance.\n",
        "      3. dosent access class or instance.\n",
        "\n",
        "  => @classmethod - class method can modify class state.\n",
        "      2. it takes self or cls refering to class.\n",
        "      3. can make external method as class method.\n",
        "\n",
        "23. How does polymorphism work in Python with inheritance?\n",
        "\n",
        "  => polymorphism works in python with inheritance by method overloading and method overriding.\n",
        "\n",
        "24. What is method chaining in Python OOP?\n",
        "\n",
        "   => it is a techinque where we call multiple methods on same object in a single line one after another by each method returning self.\n",
        "\n",
        "25. What is the purpose of the __call__ method in Python?\n",
        "\n",
        "   => the call method in python allows an object to call as function."
      ],
      "metadata": {
        "id": "mJl6pir35yPs"
      }
    },
    {
      "cell_type": "markdown",
      "source": [
        "Practical Questions:-\n",
        "\n",
        "1.  Create a parent class Animal with a method speak() that prints a generic message. Create a child class Dog that overrides the speak() method to print \"Bark!\"."
      ],
      "metadata": {
        "id": "lP0qn9tGbIS2"
      }
    },
    {
      "cell_type": "code",
      "execution_count": null,
      "metadata": {
        "id": "shjXhXqG5g2d",
        "colab": {
          "base_uri": "https://localhost:8080/"
        },
        "outputId": "23a680a0-5e40-4214-ab81-bf6af4c13ccf"
      },
      "outputs": [
        {
          "output_type": "stream",
          "name": "stdout",
          "text": [
            "Mewo\n",
            "Bark!\n",
            "Mewo\n"
          ]
        }
      ],
      "source": [
        "class Animal:\n",
        "  def speak(self):\n",
        "    print(\"Mewo\")\n",
        "class Dog(Animal):\n",
        "  def sound(self):\n",
        "    print(\"Bark!\")\n",
        "\n",
        "obj1 = Animal() #this parent class will have only his property.\n",
        "obj1.speak()\n",
        "obj2 = Dog() #This child class have both his property and also parent class property.\n",
        "obj2.sound()\n",
        "obj2.speak()\n"
      ]
    },
    {
      "cell_type": "markdown",
      "source": [
        "2. Write a program to create an abstract class Shape with a method area(). Derive classes Circle and Rectangle from it and implement the area() method in both?"
      ],
      "metadata": {
        "id": "GKlx7PP3gxdo"
      }
    },
    {
      "cell_type": "code",
      "source": [
        "import abc\n",
        "class Shape():\n",
        "\n",
        "   @abc.abstractmethod\n",
        "   def area(self):\n",
        "    pass\n",
        "\n",
        "class Circle(Shape):\n",
        "  def __init__(self, radius):\n",
        "    self.radius =radius\n",
        "  def area(self):\n",
        "    return 3.14 *self.radius **2\n",
        "\n",
        "class Rectangle(Shape):\n",
        "  def __init__(self , l ,b):\n",
        "    self.l=l\n",
        "    self.b=b\n",
        "\n",
        "  def area(self):\n",
        "    return self.l*self.b\n",
        "\n",
        "A= Circle(5)\n",
        "A.area()"
      ],
      "metadata": {
        "colab": {
          "base_uri": "https://localhost:8080/"
        },
        "id": "ypNyynsyd-0t",
        "outputId": "c4813144-5055-47d4-ca63-6825d8ab10cc"
      },
      "execution_count": null,
      "outputs": [
        {
          "output_type": "execute_result",
          "data": {
            "text/plain": [
              "78.5"
            ]
          },
          "metadata": {},
          "execution_count": 49
        }
      ]
    },
    {
      "cell_type": "code",
      "source": [
        "R=Rectangle(4,4)\n",
        "R.area()"
      ],
      "metadata": {
        "colab": {
          "base_uri": "https://localhost:8080/"
        },
        "id": "2eerR7sejqTg",
        "outputId": "fb8ca64a-20d6-4a6d-a46c-4a59fbd723f3"
      },
      "execution_count": null,
      "outputs": [
        {
          "output_type": "execute_result",
          "data": {
            "text/plain": [
              "16"
            ]
          },
          "metadata": {},
          "execution_count": 48
        }
      ]
    },
    {
      "cell_type": "markdown",
      "source": [
        "3.  Implement a multi-level inheritance scenario where a class Vehicle has an attribute type. Derive a class Car and further derive a class ElectricCar that adds a battery attribute."
      ],
      "metadata": {
        "id": "TuAZdKHBw5Oq"
      }
    },
    {
      "cell_type": "code",
      "source": [
        "class Vehical:\n",
        "  def info(self,info):\n",
        "    print(\"It's a electric vehical info =\",info)\n",
        "\n",
        "class Car(Vehical):\n",
        "  def car_info(self,name):\n",
        "    print(\"one of the car name is\",name)\n",
        "\n",
        "class Electric_Car(Vehical):\n",
        "  def electric_car_info(self,battery):\n",
        "    print(f\"these electric car run on {battery} can run 400 km in single charge\")\n",
        "\n",
        "obj3 = Vehical() #only have super class property.\n",
        "obj3.info(\"Electric vehicles are sustainable battery-powered and efficient.\")"
      ],
      "metadata": {
        "colab": {
          "base_uri": "https://localhost:8080/"
        },
        "id": "Nil6APAUwQY_",
        "outputId": "44b0318e-c4cf-40dc-c5e6-ce6a0e9e1428"
      },
      "execution_count": null,
      "outputs": [
        {
          "output_type": "stream",
          "name": "stdout",
          "text": [
            "It's a electric vehical info = Electric vehicles are sustainable battery-powered and efficient.\n"
          ]
        }
      ]
    },
    {
      "cell_type": "code",
      "source": [
        "obj = Car()# have super class property also.\n",
        "obj.info(\"Electric vehicles are sustainable battery-powered and efficient\")\n",
        "obj.car_info(\"Tesla\")"
      ],
      "metadata": {
        "colab": {
          "base_uri": "https://localhost:8080/"
        },
        "id": "huZTXei_2krP",
        "outputId": "6f0cebe9-bd2b-49ce-a259-ca5878e15ad3"
      },
      "execution_count": null,
      "outputs": [
        {
          "output_type": "stream",
          "name": "stdout",
          "text": [
            "It's a electric vehical info = Electric vehicles are sustainable battery-powered and efficient\n",
            "one of the car name is Tesla\n"
          ]
        }
      ]
    },
    {
      "cell_type": "code",
      "source": [
        "obj3 = Electric_Car()# have super class property.\n",
        "obj3.info(\"Electric vehicles are sustainable battery-powered and efficient\")\n",
        "obj3.electric_car_info(\"lithium-ion battery\")"
      ],
      "metadata": {
        "colab": {
          "base_uri": "https://localhost:8080/"
        },
        "id": "_-qw5g1c3n19",
        "outputId": "21ed3d8a-a94d-4d0e-a821-77f73cac0eb1"
      },
      "execution_count": null,
      "outputs": [
        {
          "output_type": "stream",
          "name": "stdout",
          "text": [
            "It's a electric vehical info = Electric vehicles are sustainable battery-powered and efficient\n",
            "these electric car run on lithium-ion battery can run 400 km in single charge\n"
          ]
        }
      ]
    },
    {
      "cell_type": "markdown",
      "source": [
        "4.  Demonstrate polymorphism by creating a base class Bird with a method fly(). Create two derived classes Sparrow and Penguin that override the fly() method?"
      ],
      "metadata": {
        "id": "7H8ZOXAG8bY2"
      }
    },
    {
      "cell_type": "code",
      "source": [
        "class Bird:\n",
        "  def fly(self):\n",
        "    print(\"Every Bird can fly\")\n",
        "\n",
        "class Sparrow(Bird):\n",
        "  def fly(self):\n",
        "    print(\"Sparrow is small bird live in group\")\n",
        "\n",
        "class Penguin(Bird):\n",
        "  def fly(self):\n",
        "    print(\"Penguin are birds that cannot fly\")\n",
        "\n",
        "B = Bird()\n",
        "B.fly()"
      ],
      "metadata": {
        "colab": {
          "base_uri": "https://localhost:8080/"
        },
        "id": "ps3wvNdB6zvJ",
        "outputId": "ecc2863f-5a33-40ad-bfb0-7cafae0fe519"
      },
      "execution_count": null,
      "outputs": [
        {
          "output_type": "stream",
          "name": "stdout",
          "text": [
            "Every Bird can fly\n"
          ]
        }
      ]
    },
    {
      "cell_type": "code",
      "source": [
        "S = Sparrow()\n",
        "S.fly()"
      ],
      "metadata": {
        "colab": {
          "base_uri": "https://localhost:8080/"
        },
        "id": "1kVSB8gYBAze",
        "outputId": "a9cfebc4-96c6-40b9-e08a-2eb97ac2fec2"
      },
      "execution_count": null,
      "outputs": [
        {
          "output_type": "stream",
          "name": "stdout",
          "text": [
            "Sparrow is small bird live in group\n"
          ]
        }
      ]
    },
    {
      "cell_type": "code",
      "source": [
        "P = Penguin()\n",
        "P.fly()"
      ],
      "metadata": {
        "colab": {
          "base_uri": "https://localhost:8080/"
        },
        "id": "lAhfQyyqBVxf",
        "outputId": "c2209bdf-3f4e-4826-8f7f-73faaa2b7b89"
      },
      "execution_count": null,
      "outputs": [
        {
          "output_type": "stream",
          "name": "stdout",
          "text": [
            "Penguin are birds that cannot fly\n"
          ]
        }
      ]
    },
    {
      "cell_type": "markdown",
      "source": [
        "5.  Write a program to demonstrate encapsulation by creating a class BankAccount with private attributes balance and methods to deposit, withdraw, and check balance?"
      ],
      "metadata": {
        "id": "MMo0sqiNDRtX"
      }
    },
    {
      "cell_type": "code",
      "source": [
        "class Bank_Account:\n",
        "  def __init__(self,balance):\n",
        "    self.__balance = balance\n",
        "\n",
        "  def deposite(self,amount):\n",
        "    print(\"Amount i am depositing to my account\",amount)\n",
        "    if amount > 0:\n",
        "      self.__balance+=amount\n",
        "\n",
        "  def withdraw(self,amount):\n",
        "    print(\"Amount i am withdrawing from my account\",amount)\n",
        "    if amount >=0 and self.__balance >=amount:\n",
        "      self.__balance -=amount\n",
        "\n",
        "  def check_balance(self):\n",
        "      print(\"Balance = \",self.__balance)\n",
        "\n",
        "\n",
        "obj = Bank_Account(1000)"
      ],
      "metadata": {
        "id": "N357TvmVBwCQ"
      },
      "execution_count": null,
      "outputs": []
    },
    {
      "cell_type": "code",
      "source": [
        "obj.deposite(100)\n",
        "obj.withdraw(50)"
      ],
      "metadata": {
        "colab": {
          "base_uri": "https://localhost:8080/"
        },
        "id": "NJvEZnHDZJle",
        "outputId": "4b66efb3-f6e8-4f79-8957-96e4ea0fdc73"
      },
      "execution_count": null,
      "outputs": [
        {
          "output_type": "stream",
          "name": "stdout",
          "text": [
            "Amount i am depositing to my account 100\n",
            "Amount i am withdrawing from my account 50\n"
          ]
        }
      ]
    },
    {
      "cell_type": "code",
      "source": [
        "obj.check_balance()"
      ],
      "metadata": {
        "colab": {
          "base_uri": "https://localhost:8080/"
        },
        "id": "vE4alUyGZPBS",
        "outputId": "b6badc09-446c-4db1-fcdb-e7b0364de442"
      },
      "execution_count": null,
      "outputs": [
        {
          "output_type": "stream",
          "name": "stdout",
          "text": [
            "Balance =  1050\n"
          ]
        }
      ]
    },
    {
      "cell_type": "markdown",
      "source": [
        "6.  Demonstrate runtime polymorphism using a method play() in a base class Instrument. Derive classes Guitar and Piano that implement their own version of play()."
      ],
      "metadata": {
        "id": "5QFp3oO8pfQN"
      }
    },
    {
      "cell_type": "code",
      "source": [
        "class Instrument:\n",
        "  def play(self):\n",
        "    print(\"playing instrument\")\n",
        "\n",
        "class Guitar(Instrument):\n",
        "  def play(self):\n",
        "    print(\"playing guitar\")\n",
        "\n",
        "class Piano(Instrument):\n",
        "  def play(self):\n",
        "    print(\"playing piano\")\n",
        "\n",
        "piano = Piano()"
      ],
      "metadata": {
        "id": "ihxWzrPufkQ_"
      },
      "execution_count": null,
      "outputs": []
    },
    {
      "cell_type": "code",
      "source": [
        "piano.play()"
      ],
      "metadata": {
        "colab": {
          "base_uri": "https://localhost:8080/"
        },
        "id": "3KebjMhpwgvD",
        "outputId": "ea34edf0-6a53-4e9a-fdf1-2ad0e49bd573"
      },
      "execution_count": null,
      "outputs": [
        {
          "output_type": "stream",
          "name": "stdout",
          "text": [
            "playing piano\n"
          ]
        }
      ]
    },
    {
      "cell_type": "code",
      "source": [
        "instrument = Instrument()\n",
        "instrument.play()"
      ],
      "metadata": {
        "colab": {
          "base_uri": "https://localhost:8080/"
        },
        "id": "2NYbK7s5wo-m",
        "outputId": "7380e77f-3153-4124-dd99-96dda16ddf2d"
      },
      "execution_count": null,
      "outputs": [
        {
          "output_type": "stream",
          "name": "stdout",
          "text": [
            "playing instrument\n"
          ]
        }
      ]
    },
    {
      "cell_type": "code",
      "source": [
        "guitar = Guitar()\n",
        "guitar.play()"
      ],
      "metadata": {
        "colab": {
          "base_uri": "https://localhost:8080/"
        },
        "id": "ZcQuTO9DyBCi",
        "outputId": "40bbd393-9671-4685-d411-b1fafa3dd8b8"
      },
      "execution_count": null,
      "outputs": [
        {
          "output_type": "stream",
          "name": "stdout",
          "text": [
            "playing guitar\n"
          ]
        }
      ]
    },
    {
      "cell_type": "markdown",
      "source": [
        "7. Create a class MathOperations with a class method add_numbers() to add two numbers and a static method subtract_numbers() to subtract two numbers."
      ],
      "metadata": {
        "id": "iTody7cQzvEz"
      }
    },
    {
      "cell_type": "code",
      "source": [
        "class MathOperations:\n",
        "  @classmethod\n",
        "  def add_numbers(cls,x,y):\n",
        "    return x+y\n",
        "\n",
        "  @staticmethod\n",
        "  def subtract_numbers(x,y):\n",
        "    return x-y"
      ],
      "metadata": {
        "id": "qNyjNBXJyIMB"
      },
      "execution_count": null,
      "outputs": []
    },
    {
      "cell_type": "code",
      "source": [
        "math = MathOperations()"
      ],
      "metadata": {
        "id": "2NSY-ut5zpi7"
      },
      "execution_count": null,
      "outputs": []
    },
    {
      "cell_type": "code",
      "source": [
        "math.add_numbers(5,5)"
      ],
      "metadata": {
        "colab": {
          "base_uri": "https://localhost:8080/"
        },
        "id": "QveHW70S1iQ_",
        "outputId": "c9acff94-8531-40c9-d879-fa1f456bbb01"
      },
      "execution_count": null,
      "outputs": [
        {
          "output_type": "execute_result",
          "data": {
            "text/plain": [
              "10"
            ]
          },
          "metadata": {},
          "execution_count": 92
        }
      ]
    },
    {
      "cell_type": "code",
      "source": [
        "math.subtract_numbers(10,5)"
      ],
      "metadata": {
        "colab": {
          "base_uri": "https://localhost:8080/"
        },
        "id": "gQWrvqHz1pKP",
        "outputId": "13223710-c384-4d74-ad02-b55893ffc47e"
      },
      "execution_count": null,
      "outputs": [
        {
          "output_type": "execute_result",
          "data": {
            "text/plain": [
              "5"
            ]
          },
          "metadata": {},
          "execution_count": 93
        }
      ]
    },
    {
      "cell_type": "markdown",
      "source": [
        "8.  Implement a class Person with a class method to count the total number of persons created."
      ],
      "metadata": {
        "id": "q-I-cCoo1xaL"
      }
    },
    {
      "cell_type": "code",
      "source": [
        "class Person:\n",
        "  count = 0\n",
        "  def __init__(self, name,age):\n",
        "    self.name = name\n",
        "    self.age = age\n",
        "    Person.count+=1\n",
        "  @classmethod\n",
        "  def total_persons(cls):\n",
        "    return cls.count"
      ],
      "metadata": {
        "id": "epAuANF91swK"
      },
      "execution_count": null,
      "outputs": []
    },
    {
      "cell_type": "code",
      "source": [
        "Total = Person(\"sumeet\",\"22\")\n",
        "Total = Person(\"sahil\",\"21\")"
      ],
      "metadata": {
        "id": "2WHyThQF4Ena"
      },
      "execution_count": null,
      "outputs": []
    },
    {
      "cell_type": "code",
      "source": [
        "Total.total_persons()"
      ],
      "metadata": {
        "colab": {
          "base_uri": "https://localhost:8080/"
        },
        "id": "-l9XVcc44Omj",
        "outputId": "2c6d2d44-9cd0-4c71-aef5-d637dccc70ab"
      },
      "execution_count": null,
      "outputs": [
        {
          "output_type": "execute_result",
          "data": {
            "text/plain": [
              "2"
            ]
          },
          "metadata": {},
          "execution_count": 35
        }
      ]
    },
    {
      "cell_type": "markdown",
      "source": [
        "9.  Write a class Fraction with attributes numerator and denominator. Override the str method to display the fraction as \"numerator/denominator\"."
      ],
      "metadata": {
        "id": "-UoHwj7U6Ubb"
      }
    },
    {
      "cell_type": "code",
      "source": [
        "class Fraction:\n",
        "  def __init__(self,numerator,denominator):\n",
        "    self.numerator = numerator\n",
        "    self.denominator = denominator\n",
        "\n",
        "  def __str__(self):\n",
        "    return  self.numerator/self.denominator\n",
        "    print(Fraction())"
      ],
      "metadata": {
        "id": "EdLG07ue4SXR"
      },
      "execution_count": null,
      "outputs": []
    },
    {
      "cell_type": "code",
      "source": [
        "div = Fraction(10,5)"
      ],
      "metadata": {
        "id": "mI4j6o6a-2sz"
      },
      "execution_count": null,
      "outputs": []
    },
    {
      "cell_type": "code",
      "source": [
        "div.numerator"
      ],
      "metadata": {
        "colab": {
          "base_uri": "https://localhost:8080/"
        },
        "id": "EDlXzp1k-_tj",
        "outputId": "8d7642a1-86d2-4477-b4a5-9b6f53c07b97"
      },
      "execution_count": null,
      "outputs": [
        {
          "output_type": "execute_result",
          "data": {
            "text/plain": [
              "10"
            ]
          },
          "metadata": {},
          "execution_count": 11
        }
      ]
    },
    {
      "cell_type": "code",
      "source": [
        "div.denominator"
      ],
      "metadata": {
        "colab": {
          "base_uri": "https://localhost:8080/"
        },
        "id": "ezDQInNb_ENK",
        "outputId": "d8fe982a-2cda-4e00-9932-2dfacdd8e006"
      },
      "execution_count": null,
      "outputs": [
        {
          "output_type": "execute_result",
          "data": {
            "text/plain": [
              "5"
            ]
          },
          "metadata": {},
          "execution_count": 12
        }
      ]
    },
    {
      "cell_type": "markdown",
      "source": [
        "10.  Demonstrate operator overloading by creating a class Vector and overriding the add method to add two vectors."
      ],
      "metadata": {
        "id": "8CkxXqSO_5HE"
      }
    },
    {
      "cell_type": "code",
      "source": [
        "class Vector:\n",
        "  def __init__(self,v1,v2):\n",
        "    self.v1 = v1\n",
        "    self.v2 = v2\n",
        "\n",
        "  def __add__(self,other):\n",
        "    v3 = Vector(self.v1+other.v1, self.v2+other.v2)\n",
        "    return v3\n",
        "  def __str__(self):\n",
        "    return f\"({self.v1}, {self.v2})\"\n",
        "\n",
        "v1 = Vector(2, 3)\n",
        "v2 = Vector(4, 5)\n",
        "v3 = v1 + v2\n",
        "print(v3)\n",
        "\n"
      ],
      "metadata": {
        "colab": {
          "base_uri": "https://localhost:8080/"
        },
        "id": "PiQel2zR_2kd",
        "outputId": "329b5029-9429-4b09-abe5-89a9aae48a99"
      },
      "execution_count": null,
      "outputs": [
        {
          "output_type": "stream",
          "name": "stdout",
          "text": [
            "(6, 8)\n"
          ]
        }
      ]
    },
    {
      "cell_type": "markdown",
      "source": [
        "11. . Create a class Person with attributes name and age. Add a method greet() that prints \"Hello, my name is {name} and I am {age} years old.\""
      ],
      "metadata": {
        "id": "rNzSaof1M8w_"
      }
    },
    {
      "cell_type": "code",
      "source": [
        "class Person:\n",
        "  def __init__(self,name,age):\n",
        "    self.name = name\n",
        "    self.age = age\n",
        "\n",
        "  def greet(self):\n",
        "    print(f\"Hello my name is {self.name} and i am {self.age} old\")\n",
        "\n",
        "data = Person(\"sumeet\",\"22\")"
      ],
      "metadata": {
        "id": "erxtZ5PJCraq"
      },
      "execution_count": null,
      "outputs": []
    },
    {
      "cell_type": "code",
      "source": [
        "data.greet()"
      ],
      "metadata": {
        "colab": {
          "base_uri": "https://localhost:8080/"
        },
        "id": "JUmU9wUEKEnU",
        "outputId": "e46c40f7-76f3-4c53-96ab-605529d97178"
      },
      "execution_count": null,
      "outputs": [
        {
          "output_type": "stream",
          "name": "stdout",
          "text": [
            "Hello my name is sumeet and i am 22 old\n"
          ]
        }
      ]
    },
    {
      "cell_type": "markdown",
      "source": [
        "12.  Implement a class Student with attributes name and grades. Create a method average_grade() to compute the average of the grades."
      ],
      "metadata": {
        "id": "lY72W7G2O30-"
      }
    },
    {
      "cell_type": "code",
      "source": [
        "class Student:\n",
        "  def __init__(self,name,grades):\n",
        "    self.name = name\n",
        "    self.grades = grades\n",
        "\n",
        "  def average_grade(self):\n",
        "    return sum(self.grades)/len(self.grades)\n",
        "\n"
      ],
      "metadata": {
        "id": "sX438lJ3KGc0"
      },
      "execution_count": null,
      "outputs": []
    },
    {
      "cell_type": "code",
      "source": [
        "result = Student(\"sumeet\",[80,90,60])"
      ],
      "metadata": {
        "id": "ODo9yzqrKMv5"
      },
      "execution_count": null,
      "outputs": []
    },
    {
      "cell_type": "code",
      "source": [
        "print(result.average_grade())"
      ],
      "metadata": {
        "colab": {
          "base_uri": "https://localhost:8080/"
        },
        "id": "i4oW8LFrbo5u",
        "outputId": "c5dd8f04-b7d7-48b4-b7b4-7623487c9405"
      },
      "execution_count": null,
      "outputs": [
        {
          "output_type": "stream",
          "name": "stdout",
          "text": [
            "76.66666666666667\n"
          ]
        }
      ]
    },
    {
      "cell_type": "markdown",
      "source": [
        "13.  Create a class Rectangle with methods set_dimensions() to set the dimensions and area() to calculate the area."
      ],
      "metadata": {
        "id": "A6HL2jXQeObh"
      }
    },
    {
      "cell_type": "code",
      "source": [
        "class Rectangle:\n",
        "  def __init__(self,length,breath):\n",
        "    self.length = length\n",
        "    self.breath = breath\n",
        "  def set_dimensions(self,new_length,new_width):\n",
        "    self.length = new_length\n",
        "    self.breath = new_breath\n",
        "  def area(self):\n",
        "      return self.length*self.breath"
      ],
      "metadata": {
        "id": "SmYs28sabta5"
      },
      "execution_count": null,
      "outputs": []
    },
    {
      "cell_type": "code",
      "source": [
        "a = Rectangle(10,20)"
      ],
      "metadata": {
        "id": "7OFrSSr_jrlP"
      },
      "execution_count": null,
      "outputs": []
    },
    {
      "cell_type": "code",
      "source": [
        "a.area()"
      ],
      "metadata": {
        "colab": {
          "base_uri": "https://localhost:8080/"
        },
        "id": "Q0Xb4ax8j2i_",
        "outputId": "cc64920b-db42-4153-9880-3b090b492842"
      },
      "execution_count": null,
      "outputs": [
        {
          "output_type": "execute_result",
          "data": {
            "text/plain": [
              "200"
            ]
          },
          "metadata": {},
          "execution_count": 114
        }
      ]
    },
    {
      "cell_type": "markdown",
      "source": [
        "14.  Create a class Employee with a method calculate_salary() that computes the salary based on hours worked and hourly rate. Create a derived class Manager that adds a bonus to the salary."
      ],
      "metadata": {
        "id": "3JfJSOxCnkCy"
      }
    },
    {
      "cell_type": "code",
      "source": [
        "class Employee:\n",
        "    def __init__(self, name, hours_worked, hourly_rate):\n",
        "        self.name = name\n",
        "        self.hours_worked = hours_worked\n",
        "        self.hourly_rate = hourly_rate\n",
        "\n",
        "    def calculate_salary(self):\n",
        "        salary = self.hours_worked * self.hourly_rate\n",
        "        return salary\n",
        "\n",
        "class Manager(Employee):\n",
        "    def __init__(self, name, hours_worked, hourly_rate, bonus):\n",
        "        super().__init__(name, hours_worked, hourly_rate)\n",
        "        self.bonus = bonus\n",
        "\n",
        "    def calculate_salary(self):\n",
        "        base_salary = super().calculate_salary()\n",
        "        total_salary = base_salary + self.bonus\n",
        "        return total_salary\n",
        "\n",
        "emp = Employee(\"Alice\", 40, 25)\n",
        "print(f\"{emp.name}'s salary: ${emp.calculate_salary()}\")\n",
        "\n",
        "mgr = Manager(\"Bob\", 40, 30, 500)\n",
        "print(f\"{mgr.name}'s salary (with bonus): ${mgr.calculate_salary()}\")\n"
      ],
      "metadata": {
        "id": "VVxYhKqAj8EM"
      },
      "execution_count": null,
      "outputs": []
    },
    {
      "cell_type": "markdown",
      "source": [
        "15.  Create a class Product with attributes name, price, and quantity. Implement a method total_price() that calculates the total price of the product."
      ],
      "metadata": {
        "id": "4ANotwjBZwMk"
      }
    },
    {
      "cell_type": "code",
      "source": [
        "class Product:\n",
        "  def __init__(self,name,price,quantity):\n",
        "    self.name = name\n",
        "    self.price = price\n",
        "    self.quantity = quantity\n",
        "\n",
        "  def total_price(self):\n",
        "     total = self.price * self.quantity\n",
        "     return total"
      ],
      "metadata": {
        "id": "Tl0fLXaSYrb0"
      },
      "execution_count": 11,
      "outputs": []
    },
    {
      "cell_type": "code",
      "source": [
        "product = Product(\"samsung\",100000,3)"
      ],
      "metadata": {
        "id": "z-OA2mkZbDwD"
      },
      "execution_count": 12,
      "outputs": []
    },
    {
      "cell_type": "code",
      "source": [
        "product.total_price()"
      ],
      "metadata": {
        "colab": {
          "base_uri": "https://localhost:8080/"
        },
        "id": "Vcvr7gL8bbaP",
        "outputId": "e0cf8257-9f06-43c6-c2f9-89bc4a944442"
      },
      "execution_count": 13,
      "outputs": [
        {
          "output_type": "execute_result",
          "data": {
            "text/plain": [
              "300000"
            ]
          },
          "metadata": {},
          "execution_count": 13
        }
      ]
    },
    {
      "cell_type": "markdown",
      "source": [
        "16.  Create a class Animal with an abstract method sound(). Create two derived classes Cow and Sheep that\n",
        "implement the sound() method."
      ],
      "metadata": {
        "id": "JY2a3ijJeC2D"
      }
    },
    {
      "cell_type": "code",
      "source": [
        "from abc import ABC, abstractmethod\n",
        "class Animal:\n",
        "  @abstractmethod\n",
        "  def sound(self):\n",
        "    pass\n",
        "\n",
        "class Cow(Animal):\n",
        "  def sound(self):\n",
        "    print(\"cow sound\")\n",
        "\n",
        "class Sheep(Animal):\n",
        "  def sound(self):\n",
        "    print(\"sheep sound\")"
      ],
      "metadata": {
        "id": "ZcMoBnWobfC3"
      },
      "execution_count": 19,
      "outputs": []
    },
    {
      "cell_type": "code",
      "source": [
        "sound = Sheep()"
      ],
      "metadata": {
        "id": "5vpTvCY4cqP_"
      },
      "execution_count": 20,
      "outputs": []
    },
    {
      "cell_type": "code",
      "source": [
        "sound.sound()"
      ],
      "metadata": {
        "colab": {
          "base_uri": "https://localhost:8080/"
        },
        "id": "HvTTcF0VghFg",
        "outputId": "fd2250d1-74dc-40f9-8823-e353af8f3242"
      },
      "execution_count": 21,
      "outputs": [
        {
          "output_type": "stream",
          "name": "stdout",
          "text": [
            "sheep sound\n"
          ]
        }
      ]
    },
    {
      "cell_type": "code",
      "source": [
        "sound2 = Animal()"
      ],
      "metadata": {
        "id": "D-YSX92agjjv"
      },
      "execution_count": 22,
      "outputs": []
    },
    {
      "cell_type": "code",
      "source": [
        "sound2.sound()"
      ],
      "metadata": {
        "id": "VD5by1_BhJky"
      },
      "execution_count": 23,
      "outputs": []
    },
    {
      "cell_type": "code",
      "source": [
        "sound3 = Cow()"
      ],
      "metadata": {
        "id": "z8jFa7a8hLmf"
      },
      "execution_count": 24,
      "outputs": []
    },
    {
      "cell_type": "code",
      "source": [
        "sound3.sound()"
      ],
      "metadata": {
        "colab": {
          "base_uri": "https://localhost:8080/"
        },
        "id": "K0Jsb41ehQPU",
        "outputId": "f7bd9b4a-cf69-46d6-cc7c-4b74d9b4116a"
      },
      "execution_count": 25,
      "outputs": [
        {
          "output_type": "stream",
          "name": "stdout",
          "text": [
            "cow sound\n"
          ]
        }
      ]
    },
    {
      "cell_type": "markdown",
      "source": [
        "17. Create a class Book with attributes title, author, and year_published. Add a method get_book_info() that\n",
        "returns a formatted string with the book's details."
      ],
      "metadata": {
        "id": "mYT2ocLHhWsV"
      }
    },
    {
      "cell_type": "code",
      "source": [
        "class Book:\n",
        "  def __init__(self,title,author,year_published):\n",
        "      self.title = title\n",
        "      self.author = author\n",
        "      self.year_published = year_published\n",
        "\n",
        "  def get_book_info(self):\n",
        "    print(f\"Title of book is {self.title} and the author of book {self.author} and published year is {self.year_published}\")\n"
      ],
      "metadata": {
        "id": "mSBhvddXhRvq"
      },
      "execution_count": 26,
      "outputs": []
    },
    {
      "cell_type": "code",
      "source": [
        "book_detail = Book(\"Python\",\"Guido Van Rossum\",1991)"
      ],
      "metadata": {
        "id": "IiaoG2tGjR1O"
      },
      "execution_count": 27,
      "outputs": []
    },
    {
      "cell_type": "code",
      "source": [
        "book_detail.get_book_info()"
      ],
      "metadata": {
        "colab": {
          "base_uri": "https://localhost:8080/"
        },
        "id": "dtJnEF3rjpzJ",
        "outputId": "bda65e50-6b08-4f80-cfd5-b2437dc7418d"
      },
      "execution_count": 28,
      "outputs": [
        {
          "output_type": "stream",
          "name": "stdout",
          "text": [
            "Title of book is Python and the author of book Guido Van Rossum and published year is 1991\n"
          ]
        }
      ]
    },
    {
      "cell_type": "markdown",
      "source": [
        "18. Create a class House with attributes address and price. Create a derived class Mansion that adds an\n",
        "attribute number_of_rooms."
      ],
      "metadata": {
        "id": "sYLj6xH1jvzl"
      }
    },
    {
      "cell_type": "code",
      "source": [
        "class House:\n",
        "  def __init__(self, address,price):\n",
        "    self.address = address\n",
        "    self.price = price\n",
        "\n",
        "class Mansion(House):\n",
        "  def __init__(self,address,price,number_of_rooms):\n",
        "    super().__init__(address,price)\n",
        "    print(f\"address is{self.address},and price is{self.price}\")"
      ],
      "metadata": {
        "id": "cPR4madJjs4X"
      },
      "execution_count": 74,
      "outputs": []
    },
    {
      "cell_type": "code",
      "source": [
        "info2 = Mansion(\"Main, palace guttahalli banglore\",5000000,15)"
      ],
      "metadata": {
        "colab": {
          "base_uri": "https://localhost:8080/"
        },
        "id": "Hus6_PT8oiJE",
        "outputId": "87651608-1259-46ea-fc15-372aa16298f9"
      },
      "execution_count": 81,
      "outputs": [
        {
          "output_type": "stream",
          "name": "stdout",
          "text": [
            "address isMain, palace guttahalli banglore,and price is5000000\n"
          ]
        }
      ]
    },
    {
      "cell_type": "code",
      "source": [],
      "metadata": {
        "id": "QyBOu3_0orob"
      },
      "execution_count": null,
      "outputs": []
    }
  ]
}