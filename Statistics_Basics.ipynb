{
  "nbformat": 4,
  "nbformat_minor": 0,
  "metadata": {
    "colab": {
      "provenance": []
    },
    "kernelspec": {
      "name": "python3",
      "display_name": "Python 3"
    },
    "language_info": {
      "name": "python"
    }
  },
  "cells": [
    {
      "cell_type": "markdown",
      "source": [
        "**Statistics Basics**\n",
        "\n",
        "Question 1: What is the difference between descriptive statistics and inferential statistics? Explain with examples?\n",
        "\n",
        " => Descriptive statistic - describe the relationship between variables in a sample.\n",
        " - summarizes the data without generalizing.\n",
        " - provide a summary and visulation of data.\n",
        " - types - Measure of centeral tendency and measure of variability.\n",
        " - result shown with help of charts, graphs, tables etc.\n",
        " - examples - Mean, Median, Mode, Standard deviation and Range.\n",
        "\n",
        " => Inferential statistics - shows weather difference exist among one or two groups of data.\n",
        " - Generalize findings from sample to population.\n",
        " - Draws conclusions, tests hypotheses and makes predictions.\n",
        " - types - Estimation of parameters and testing of hypothises.\n",
        " - result shown with help of probability scores.\n",
        "\n",
        "Qusetion 2: What is sampling in statistics? Explain the differences between random and stratified sampling?\n",
        "\n",
        " => Sampling in statistic simply means dividing the population in smaller and take sample from those groups.\n",
        "\n",
        " - SRS(sample random sampling)- Members of population has equal chance of being selected in a sample.\n",
        "\n",
        " - Stratified sampling - it is a method of sampling where population is divided into smaller groups called(strata) and picking random sample from each group.\n",
        "\n",
        " Question 3: Define mean, median, and mode. Explain why these measures of central tendency are important?\n",
        "\n",
        " => Mean - summing all the ovservation and dividing by number of ovservation.\n",
        "  - Median - median is physical mid point of data, average of middle most element.\n",
        "  - Mode - mode define the value that appears most frequently in a data set.\n",
        "  - why important?\n",
        "  - in all of these cases(mean, median, mode) we are trying to represent the data with centeral value.(measures of centeral tendency).\n",
        "\n",
        "Question 4: Explain skewness and kurtosis. What does a positive skew imply about the data?\n",
        "\n",
        " => skeweness - measure of semmetricity of data distribution.\n",
        " Positive skew → Tail on the right (e.g., income distribution).\n",
        " Negative skew → Tail on the left.\n",
        "  - kurtosis - Measure of the \"peakedness\" or flatness of a distribution.\n",
        "  High kurtosis → Heavy tails, more outliers.\n",
        "  Low kurtosis → Light tails.\n",
        "  - positive skew most of data in left side and tail on the left.\n",
        "\n"
      ],
      "metadata": {
        "id": "cIqWp367FBhU"
      }
    },
    {
      "cell_type": "markdown",
      "source": [
        "Question 5: Implement a Python program to compute the mean, median, and mode of\n",
        "a given list of numbers.\n",
        "numbers = [12, 15, 12, 18, 19, 12, 20, 22, 19, 19, 24, 24, 24, 26, 28]?"
      ],
      "metadata": {
        "id": "a5nFssqSMa_n"
      }
    },
    {
      "cell_type": "code",
      "execution_count": 3,
      "metadata": {
        "colab": {
          "base_uri": "https://localhost:8080/"
        },
        "id": "NhILzGpxE7eh",
        "outputId": "6d6277c8-bd0a-4e79-fe80-b4f726a0b9c9"
      },
      "outputs": [
        {
          "output_type": "stream",
          "name": "stdout",
          "text": [
            "19.6\n",
            "19\n",
            "12\n"
          ]
        }
      ],
      "source": [
        "import statistics as st\n",
        "numbers =[12, 15, 12, 18, 19, 12, 20, 22, 19, 19, 24, 24, 24, 26, 28]\n",
        "mean_of_nums = st.mean(numbers)\n",
        "median_of_nums = st.median(numbers)\n",
        "mode_of_nums = st.mode(numbers)\n",
        "print(mean_of_nums)\n",
        "print(median_of_nums)\n",
        "print(mode_of_nums)"
      ]
    },
    {
      "cell_type": "markdown",
      "source": [
        "Question 6: Compute the covariance and correlation coefficient between the following two datasets provided as lists in Python:\n",
        "list_x = [10, 20, 30, 40, 50]\n",
        "list_y = [15, 25, 35, 45, 60]"
      ],
      "metadata": {
        "id": "Ea2IZPspNaoq"
      }
    },
    {
      "cell_type": "code",
      "source": [
        "import numpy as np\n",
        "list_x = [10, 20, 30, 40, 50]\n",
        "list_y = [15, 25, 35, 45, 60]\n",
        "cov_matrix = np.cov(list_x, list_y, bias=True)\n",
        "correlation = np.corrcoef(list_x, list_y)\n",
        "print(\"Covariance Matrix:\\n\", cov_matrix)\n",
        "print(\"Correlation Coefficient:\", correlation[0,1])"
      ],
      "metadata": {
        "colab": {
          "base_uri": "https://localhost:8080/"
        },
        "id": "gcHiDVdhMy8R",
        "outputId": "071b568f-ce6c-4997-982e-cc19ff4ed3e3"
      },
      "execution_count": 4,
      "outputs": [
        {
          "output_type": "stream",
          "name": "stdout",
          "text": [
            "Covariance Matrix:\n",
            " [[200. 220.]\n",
            " [220. 244.]]\n",
            "Correlation Coefficient: 0.995893206467704\n"
          ]
        }
      ]
    },
    {
      "cell_type": "markdown",
      "source": [
        "Question 7: Write a Python script to draw a boxplot for the following numeric list and identify its outliers. Explain the result:\n",
        "data = [12, 14, 14, 15, 18, 19, 19, 21, 22, 22, 23, 23, 24, 26, 29, 35]"
      ],
      "metadata": {
        "id": "llXFzcAGNth7"
      }
    },
    {
      "cell_type": "code",
      "source": [
        "import matplotlib.pyplot as plt\n",
        "data = [12, 14, 14, 15, 18, 19, 19, 21, 22, 22, 23, 23, 24, 26, 29, 35]\n",
        "plt.boxplot(data)\n",
        "plt.title(\"Boxplot of data\")\n",
        "plt.show()"
      ],
      "metadata": {
        "colab": {
          "base_uri": "https://localhost:8080/",
          "height": 452
        },
        "id": "8UDAyupCNsC2",
        "outputId": "e53a60cd-32b1-40e0-9227-8624202c0570"
      },
      "execution_count": 7,
      "outputs": [
        {
          "output_type": "display_data",
          "data": {
            "text/plain": [
              "<Figure size 640x480 with 1 Axes>"
            ],
            "image/png": "[encoded data removed]"
          },
          "metadata": {}
        }
      ]
    },
    {
      "cell_type": "markdown",
      "source": [
        "Question 8: You are working as a data analyst in an e-commerce company. The\n",
        "marketing team wants to know if there is a relationship between advertising spend and\n",
        "daily sales.\n",
        "● Explain how you would use covariance and correlation to explore this\n",
        "relationship.\n",
        "● Write Python code to compute the correlation between the two lists:\n",
        "advertising_spend = [200, 250, 300, 400, 500]\n",
        "daily_sales = [2200, 2450, 2750, 3200, 4000]"
      ],
      "metadata": {
        "id": "S_OqWdzGOVNV"
      }
    },
    {
      "cell_type": "code",
      "source": [
        "import numpy as np\n",
        "advertising_spend = [200, 250, 300, 400, 500]\n",
        "daily_sales = [2200, 2450, 2750, 3200, 4000]\n",
        "corr = np.corrcoef(advertising_spend, daily_sales)[0,1]\n",
        "print(\"Correlation Coefficient:\", corr)"
      ],
      "metadata": {
        "colab": {
          "base_uri": "https://localhost:8080/"
        },
        "id": "-kVqaIaZN_uV",
        "outputId": "79c1fc59-0c22-4cdf-f07d-8dc7af2827bf"
      },
      "execution_count": 8,
      "outputs": [
        {
          "output_type": "stream",
          "name": "stdout",
          "text": [
            "Correlation Coefficient: 0.9935824101653329\n"
          ]
        }
      ]
    },
    {
      "cell_type": "markdown",
      "source": [
        "Question 9: Your team has collected customer satisfaction survey data on a scale of\n",
        "1-10 and wants to understand its distribution before launching a new product.\n",
        "● Explain which summary statistics and visualizations (e.g. mean, standard\n",
        "deviation, histogram) you’d use.\n",
        "● Write Python code to create a histogram using Matplotlib for the survey data:\n",
        "survey_scores = [7, 8, 5, 9, 6, 7, 8, 9, 10, 4, 7, 6, 9, 8, 7]"
      ],
      "metadata": {
        "id": "_xgyvNjBOqfV"
      }
    },
    {
      "cell_type": "code",
      "source": [
        "import matplotlib.pyplot as plt\n",
        "import numpy as np\n",
        "survey_scores = [7, 8, 5, 9, 6, 7, 8, 9, 10, 4, 7, 6, 9, 8, 7]\n",
        "plt.hist(survey_scores,bins =7, color=\"red\", edgecolor = \"black\")\n",
        "plt.title(\"survey scores distribution\")\n",
        "plt.xlabel(\"scores\")\n",
        "plt.ylabel(\"frequency\")\n",
        "mean_val = np.mean(survey_scores)\n",
        "median_val = np.median(survey_scores)\n",
        "std_val = np.std(survey_scores)\n",
        "print(\"Mean\",mean_val)\n",
        "print(\"Median\",median_val)\n",
        "print(\"Std_var\",std_val)"
      ],
      "metadata": {
        "colab": {
          "base_uri": "https://localhost:8080/",
          "height": 524
        },
        "id": "i0I0s57gOoZo",
        "outputId": "b5ea5f38-57c3-4652-ac4e-62a557beef0c"
      },
      "execution_count": 9,
      "outputs": [
        {
          "output_type": "stream",
          "name": "stdout",
          "text": [
            "Mean 7.333333333333333\n",
            "Median 7.0\n",
            "Std_var 1.577621275493231\n"
          ]
        },
        {
          "output_type": "display_data",
          "data": {
            "text/plain": [
              "<Figure size 640x480 with 1 Axes>"
            ],
            "image/png": "[encoded data removed]"
          },
          "metadata": {}
        }
      ]
    },
    {
      "cell_type": "code",
      "source": [],
      "metadata": {
        "id": "yQV5K19RRkbf"
      },
      "execution_count": null,
      "outputs": []
    }
  ]
}