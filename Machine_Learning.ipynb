{
  "nbformat": 4,
  "nbformat_minor": 0,
  "metadata": {
    "colab": {
      "provenance": []
    },
    "kernelspec": {
      "name": "python3",
      "display_name": "Python 3"
    },
    "language_info": {
      "name": "python"
    }
  },
  "cells": [
    {
      "cell_type": "markdown",
      "source": [
        "**Machine Learning**\n",
        "\n",
        "Question 1: Explain the differences between AI, ML, Deep Learning (DL), and Data\n",
        "Science (DS)?\n",
        "\n",
        " => 1. AI (Artificial Intelligence):\n",
        "\n",
        "Definition: Making machines think/act like humans.\n",
        "\n",
        "Goal: Simulate human intelligence.\n",
        "\n",
        "Examples: Siri, self-driving cars, chatbots.\n",
        "\n",
        "2. ML (Machine Learning):\n",
        "\n",
        "Subset of AI\n",
        "\n",
        "Definition: Machines learn from data without being explicitly programmed.\n",
        "\n",
        "Goal: Learn patterns and make predictions.\n",
        "\n",
        "Examples: Spam detection, recommendation systems.\n",
        "\n",
        "3. DL (Deep Learning):\n",
        "\n",
        "Subset of ML\n",
        "\n",
        "Definition: Uses neural networks with many layers to model complex patterns.\n",
        "\n",
        "Goal: Handle large-scale data (like images, voice, text).\n",
        "\n",
        "Examples: Face recognition, voice assistants, GPT.\n",
        "\n",
        "4. DS (Data Science):\n",
        "\n",
        "Broader field involving data\n",
        "\n",
        "Definition: Extracting insights from data using stats, ML, visualization, etc.\n",
        "\n",
        "Goal: Make data-driven decisions.\n",
        "\n",
        "Examples: Business analytics, forecasting sales, user behavior analysis.\n",
        "\n",
        "\n",
        "Question 2: What are the types of machine learning? Describe each with one\n",
        "real-world example.\n",
        "\n",
        " => 1. Supervised Learning\n",
        "\n",
        "Definition: Model learns from labeled data (input + correct output).\n",
        "\n",
        "Goal: Predict output for new data.\n",
        "\n",
        "Examples:\n",
        "\n",
        "Spam Detection in emails (Email ➝ Spam/Not Spam)\n",
        "\n",
        "2. Unsupervised Learning\n",
        "\n",
        "Definition: Model finds patterns in unlabeled data.\n",
        "\n",
        "Goal: Discover hidden structure or groupings.\n",
        "\n",
        "Examples:\n",
        "\n",
        "Customer Segmentation (Group users by behavior for marketing)\n",
        "\n",
        "3. Semi-Supervised Learning\n",
        "\n",
        "Definition: Uses small amount of labeled + large amount of unlabeled data.\n",
        "\n",
        "Goal: Improve accuracy when labeled data is scarce.\n",
        "\n",
        "Examples:\n",
        "\n",
        "Photo Tagging (Few labeled faces help label others)\n",
        "\n",
        "4. Reinforcement Learning\n",
        "\n",
        "Definition: Model learns by trial and error, gets rewards/punishments.\n",
        "\n",
        "Goal: Maximize total reward.\n",
        "\n",
        "Examples:\n",
        "\n",
        "Self-Driving Cars (Learn to drive safely by interacting with environment)\n",
        "\n",
        "Question 3: Define overfitting, underfitting, and the bias-variance tradeoff in machine learning?\n",
        "\n",
        " => 1. Overfitting\n",
        "\n",
        "Definition: Model learns the training data too well, including noise/errors.\n",
        "\n",
        "Result: High accuracy on training, poor on new data.\n",
        "\n",
        "Example: Student memorizes answers, fails in real exam.\n",
        "\n",
        "2. Underfitting\n",
        "\n",
        "Definition: Model is too simple, can’t capture patterns in training data.\n",
        "\n",
        "Result: Poor performance on both training and new data.\n",
        "\n",
        "Example: Student didn’t study enough, fails both practice and real exam.\n",
        "\n",
        "3. Bias-Variance Tradeoff\n",
        "Term\tMeaning\n",
        "Bias\tError from wrong assumptions (underfitting)\n",
        "Variance\tError from too much complexity (overfitting)\n",
        "\n",
        "Question 4: What are outliers in a dataset, and list three common techniques for\n",
        "handling them?\n",
        "\n",
        " => Definition:Outliers are data points that differ a lot from other values in a dataset.\n",
        "\n",
        "Example:If most people earn ₹30k–₹50k/month, but one person earns ₹5 lakh — that’s an outlier.\n",
        "\n",
        "3 Common Techniques to Handle Outliers:\n",
        "1.Remove Them\n",
        "\n",
        "Just delete extreme values (if they are errors or irrelevant).\n",
        "\n",
        "Example: Typo in data entry like \"Age = 250\".\n",
        "\n",
        "2.Transform the Data\n",
        "\n",
        "Use log, square root, or z-score normalization to reduce outlier impact.\n",
        "\n",
        "Example: log(income) makes large incomes less extreme.\n",
        "\n",
        "3.Cap or Impute\n",
        "\n",
        "Use Winsorization (cap outliers at a percentile).\n",
        "\n",
        "Or replace with mean/median values.\n",
        "\n",
        "Example: Replace top 1% salaries with 99th percentile value.\n",
        "\n",
        "Question 5: Explain the process of handling missing values and mention one\n",
        "imputation technique for numerical and one for categorical data?\n",
        "\n",
        " => Identify Missing Values\n",
        "\n",
        "Use isnull() or isna() in Python (Pandas).\n",
        "\n",
        "Analyze the Pattern\n",
        "\n",
        "Check how much data is missing and where.\n",
        "\n",
        "Missing at random? Or specific patterns?\n",
        "\n",
        "Decide What to Do:\n",
        "\n",
        "Drop rows/columns (if too much missing).\n",
        "\n",
        "Or impute (fill in) missing values.\n",
        "\n",
        "Techniques:For Numerical Data:\n",
        "\n",
        "Mean Imputation\n",
        "\n",
        "Replace missing values with the mean of the column.\n",
        "\n",
        "Example: If \"Age\" has missing values, fill with average age.\n",
        "\n",
        "For Categorical Data: Mode Imputation\n",
        "\n",
        "- Replace missing values with the most frequent category.\n",
        "\n",
        "- Example: If \"City\" is missing, fill with the most common city.\n",
        "\n",
        "\n",
        "Question 6: Write a Python program that:\n",
        "● Creates a synthetic imbalanced dataset with make_classification() from\n",
        "sklearn.datasets.\n",
        "● Prints the class distribution?\n",
        "\n",
        "\n"
      ],
      "metadata": {
        "id": "4wYiyDzJmLX9"
      }
    },
    {
      "cell_type": "code",
      "execution_count": 1,
      "metadata": {
        "colab": {
          "base_uri": "https://localhost:8080/"
        },
        "id": "9J-VpGwslyS7",
        "outputId": "135c0b2f-a746-43d6-aa6d-071b0066302a"
      },
      "outputs": [
        {
          "output_type": "stream",
          "name": "stdout",
          "text": [
            "Class distribution: Counter({np.int64(0): 897, np.int64(1): 103})\n",
            "Class 0: 897 samples (89.70%)\n",
            "Class 1: 103 samples (10.30%)\n"
          ]
        }
      ],
      "source": [
        "from sklearn.datasets import make_classification\n",
        "from collections import Counter\n",
        "import pandas as pd\n",
        "\n",
        "X, y = make_classification(\n",
        "    n_samples=1000,\n",
        "    n_features=10,\n",
        "    n_classes=2,\n",
        "    weights=[0.9, 0.1],\n",
        "    random_state=42\n",
        ")\n",
        "\n",
        "class_distribution = Counter(y)\n",
        "print(\"Class distribution:\", class_distribution)\n",
        "\n",
        "total = sum(class_distribution.values())\n",
        "for cls, count in class_distribution.items():\n",
        "    print(f\"Class {cls}: {count} samples ({(count/total)*100:.2f}%)\")\n"
      ]
    },
    {
      "cell_type": "markdown",
      "source": [
        "Question 7: Implement one-hot encoding using pandas for the following list of colors:\n",
        "['Red', 'Green', 'Blue', 'Green', 'Red']. Print the resulting dataframe.\n"
      ],
      "metadata": {
        "id": "ntkfGuK1pALD"
      }
    },
    {
      "cell_type": "code",
      "source": [
        "import pandas as pd\n",
        "\n",
        "colors = ['Red', 'Green', 'Blue', 'Green', 'Red']\n",
        "df = pd.DataFrame({'Color': colors})\n",
        "one_hot = pd.get_dummies(df, columns=['Color'])\n",
        "print(one_hot)\n"
      ],
      "metadata": {
        "colab": {
          "base_uri": "https://localhost:8080/"
        },
        "id": "VGfUBhpCo_Xd",
        "outputId": "7ba5bcdc-3245-434d-ce44-7371e076d477"
      },
      "execution_count": 2,
      "outputs": [
        {
          "output_type": "stream",
          "name": "stdout",
          "text": [
            "   Color_Blue  Color_Green  Color_Red\n",
            "0       False        False       True\n",
            "1       False         True      False\n",
            "2        True        False      False\n",
            "3       False         True      False\n",
            "4       False        False       True\n"
          ]
        }
      ]
    },
    {
      "cell_type": "markdown",
      "source": [
        "Question 8: Write a Python script to:\n",
        "● Generate 1000 samples from a normal distribution.\n",
        "● Introduce 50 random missing values.\n",
        "● Fill missing values with the column mean.\n",
        "● Plot a histogram before and after imputation?"
      ],
      "metadata": {
        "id": "2xm_540SpKV9"
      }
    },
    {
      "cell_type": "code",
      "source": [
        "import numpy as np\n",
        "import pandas as pd\n",
        "import matplotlib.pyplot as plt\n",
        "\n",
        "data = np.random.normal(loc=0, scale=1, size=1000)\n",
        "df = pd.DataFrame({'Values': data})\n",
        "missing_indices = np.random.choice(df.index, size=50, replace=False)\n",
        "df.loc[missing_indices, 'Values'] = np.nan\n",
        "df_before = df.copy()\n",
        "mean_value = df['Values'].mean()\n",
        "df['Values'].fillna(mean_value, inplace=True)\n",
        "\n",
        "plt.figure(figsize=(12, 5))\n",
        "plt.subplot(1, 2, 1)\n",
        "plt.hist(df_before['Values'].dropna(), bins=30, color='skyblue', edgecolor='black')\n",
        "plt.title('Before Imputation')\n",
        "plt.xlabel('Value')\n",
        "plt.ylabel('Frequency')\n",
        "\n",
        "plt.subplot(1, 2, 2)\n",
        "plt.hist(df['Values'], bins=30, color='lightgreen', edgecolor='black')\n",
        "plt.title('After Mean Imputation')\n",
        "plt.xlabel('Value')\n",
        "plt.ylabel('Frequency')\n",
        "\n"
      ],
      "metadata": {
        "colab": {
          "base_uri": "https://localhost:8080/",
          "height": 646
        },
        "id": "-yU-fjHApPm5",
        "outputId": "73722714-8d37-4c9f-fcc9-daa1abd5c1f5"
      },
      "execution_count": 4,
      "outputs": [
        {
          "output_type": "stream",
          "name": "stderr",
          "text": [
            "/tmp/ipython-input-551967926.py:11: FutureWarning: A value is trying to be set on a copy of a DataFrame or Series through chained assignment using an inplace method.\n",
            "The behavior will change in pandas 3.0. This inplace method will never work because the intermediate object on which we are setting values always behaves as a copy.\n",
            "\n",
            "For example, when doing 'df[col].method(value, inplace=True)', try using 'df.method({col: value}, inplace=True)' or df[col] = df[col].method(value) instead, to perform the operation inplace on the original object.\n",
            "\n",
            "\n",
            "  df['Values'].fillna(mean_value, inplace=True)\n"
          ]
        },
        {
          "output_type": "execute_result",
          "data": {
            "text/plain": [
              "Text(0, 0.5, 'Frequency')"
            ]
          },
          "metadata": {},
          "execution_count": 4
        },
        {
          "output_type": "display_data",
          "data": {
            "text/plain": [
              "<Figure size 1200x500 with 2 Axes>"
            ],
            "image/png": "[encoded data removed]"
          },
          "metadata": {}
        }
      ]
    },
    {
      "cell_type": "markdown",
      "source": [
        "Question 9: Implement Min-Max scaling on the following list of numbers [2, 5, 10, 15,\n",
        "20] using sklearn.preprocessing.MinMaxScaler. Print the scaled array"
      ],
      "metadata": {
        "id": "dt4m2YO6pwCY"
      }
    },
    {
      "cell_type": "code",
      "source": [
        "from sklearn.preprocessing import MinMaxScaler\n",
        "import numpy as np\n",
        "\n",
        "data = np.array([[2], [5], [10], [15], [20]])\n",
        "scaler = MinMaxScaler()\n",
        "scaled_data = scaler.fit_transform(data)\n",
        "\n",
        "print(scaled_data.flatten())\n"
      ],
      "metadata": {
        "colab": {
          "base_uri": "https://localhost:8080/"
        },
        "id": "8G5UnmgLpXW1",
        "outputId": "65139c43-862d-45a1-d537-7dce527f6045"
      },
      "execution_count": 6,
      "outputs": [
        {
          "output_type": "stream",
          "name": "stdout",
          "text": [
            "[0.         0.16666667 0.44444444 0.72222222 1.        ]\n"
          ]
        }
      ]
    },
    {
      "cell_type": "markdown",
      "source": [
        "Question 10: You are working as a data scientist for a retail company. You receive a customer\n",
        "transaction dataset that contains:\n",
        "● Missing ages,\n",
        "● Outliers in transaction amount,\n",
        "● A highly imbalanced target (fraud vs. non-fraud),\n",
        "● Categorical variables like payment method.\n",
        "Explain the step-by-step data preparation plan you’d follow before training a machine learning\n",
        "model. Include how you’d address missing data, outliers, imbalance, and encoding."
      ],
      "metadata": {
        "id": "0YW9GYDop5wn"
      }
    },
    {
      "cell_type": "markdown",
      "source": [
        "1. Handling Missing Ages\n",
        "\n",
        "Analyze missing pattern: Check if missing at random or not.\n",
        "\n",
        "Imputation:\n",
        "\n",
        "Use median age imputation (better than mean, less sensitive to outliers).\n",
        "\n",
        "Alternatively, use predictive imputation (like KNN imputer) if more accuracy needed.\n",
        "\n",
        "2. Handling Outliers in Transaction Amount\n",
        "\n",
        "Detect outliers:\n",
        "\n",
        "Use IQR method or Z-score to identify extreme values.\n",
        "\n",
        "Handle outliers:\n",
        "\n",
        "Cap them using Winsorization (limit to a certain percentile).\n",
        "\n",
        "Or transform (log transform) to reduce skewness.\n",
        "\n",
        "Avoid removing if data is valid (fraud might cause outliers).\n",
        "\n",
        "3. Handling Highly Imbalanced Target (Fraud vs Non-Fraud)\n",
        "\n",
        "Analyze imbalance ratio.\n",
        "\n",
        "Techniques to fix imbalance:\n",
        "\n",
        "Oversampling minority class (e.g., SMOTE).\n",
        "\n",
        "Undersampling majority class.\n",
        "\n",
        "Or a combination (balanced batch sampling).\n",
        "\n",
        "Use class weights in model if supported (e.g., in Random Forest or XGBoost).\n",
        "\n",
        "4. Encoding Categorical Variables (e.g., Payment Method)\n",
        "\n",
        "For nominal categories without order:\n",
        "\n",
        "Use One-Hot Encoding (via pd.get_dummies or sklearn’s OneHotEncoder).\n",
        "\n",
        "For high cardinality features:\n",
        "\n",
        "Use Target Encoding or Frequency Encoding to reduce dimensionality."
      ],
      "metadata": {
        "id": "B6H4XWDEqMCO"
      }
    },
    {
      "cell_type": "code",
      "source": [],
      "metadata": {
        "id": "jWyoCTZBp4Mq"
      },
      "execution_count": null,
      "outputs": []
    }
  ]
}