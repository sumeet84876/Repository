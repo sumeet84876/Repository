{
  "nbformat": 4,
  "nbformat_minor": 0,
  "metadata": {
    "colab": {
      "provenance": []
    },
    "kernelspec": {
      "name": "python3",
      "display_name": "Python 3"
    },
    "language_info": {
      "name": "python"
    }
  },
  "cells": [
    {
      "cell_type": "markdown",
      "source": [
        "Data Types and Structures Questions\n",
        "\n",
        "1. What are data structures, and why are they important?\n",
        "\n",
        "     => Data structur is a way of organizing and storing data that can be       asseced and manuplatd efficencly. data structure is important because they are crucial for writting effcient algorithms and manage large dataset effectively.\n",
        "\n",
        "2. Explain the difference between mutable and immutable data types with example?\n",
        "      \n",
        "      => Mutable datatypes >> mutable datatype can be change after they created.example- list and dictionaries.\n",
        "\n",
        "      Immutable datatypes >> Immutable datatypes cannot be change after they are created example - Tuples.\n",
        "\n",
        "3. What are the main differences between lists and tuples in Python?\n",
        "      \n",
        "      => The main difference between list and tuple is list are mutable and tuple are immutable.\n",
        "\n",
        "4. Describe how dictionaries store data?\n",
        "\n",
        "      => Dictionaries store the data in the form of key value pair in hash table\n",
        "         keys are immutable and values are mutable.\n",
        "\n",
        "5. Why might you use a set instead of a list in Python?\n",
        "\n",
        "     => Because set is unordred collection of uniaue elements and it dose not support duplicate elements.\n",
        "\n",
        "6. What is a string in Python, and how is it different from a list?\n",
        "      \n",
        "      => string is a sequence of character represent and manuplate texual data\n",
        "         string is different from list by their mutibality and type of data  they store.\n",
        "\n",
        "7. How do tuples ensure data integrity in Python?\n",
        "\n",
        "      => Tuple ensure data integerity by their immutibality.\n",
        "\n",
        "8. What is a hash table, and how does it relate to dictionaries in Python?\n",
        "\n",
        "      =>A hash table is the underlying data structure that enables Python's dict to perform fast key-based operations.\n",
        "\n",
        "9. Can lists contain different data types in Python?\n",
        "\n",
        "      => Yes lists can contain different datatypes in python.\n",
        "\n",
        "10. Explain why strings are immutable in Python?\n",
        "\n",
        "      => stringa are immutable in python because it provide safty and predictability, performance optemization and simplicity and consistency.\n",
        "\n",
        "11. What advantages do dictionaries offer over lists for certain tasks?\n",
        "\n",
        "      => Dictionaries offer several key advantages over lists for certain tasks, especially when it comes to lookup speed, data organization, and semantic clarity.\n",
        "\n",
        "12.  Describe a scenario where using a tuple would be preferable over a list?\n",
        "\n",
        "      => Use a tuple when you need an immutable, fixed-size collection of items that shouldnt change. It is also better for use as dictionary keys or when returning multiple values from a function.\n",
        "\n",
        "13. How do sets handle duplicate values in Python?\n",
        "\n",
        "      => In python set automatically eliminate duplicate values.\n",
        "\n",
        "14. How does the “in” keyword work differently for lists and dictionaries?\n",
        "\n",
        "      => \"in\" keyword checks if the value exist in list and for dictionaries it checks that key exist in dictionary not value.\n",
        "\n",
        "15. Can you modify the elements of a tuple? Explain why or why not?\n",
        "    \n",
        "      => We cannot change the elements of tuples because once a tuple created it values cant be change tuple are immutable.\n",
        "\n",
        "16. What is a nested dictionary, and give an example of its use case?\n",
        "\n",
        "      => Nested dictionary is dictionary inside dictionary.\n",
        "        use case -> Storing information about students, where each student has their own dictionary of attributes.\n",
        "\n",
        "17. Describe the time complexity of accessing elements in a dictionary?\n",
        "\n",
        "      => Accessing elements in a dictionary in Python has an average time complexity of O(1) — meaning it generally constant time regardless of the dictionary size.\n",
        "\n",
        "18. In what situations are lists preferred over dictionaries?\n",
        "\n",
        "      => List perfer over dictioneries when oder matters you dosent want elements in key value pair.\n",
        "\n",
        "19. Why are dictionaries considered unordered, and how does that affect data retrieval?\n",
        "\n",
        "      => dictionaries did not guarantee any specific order of items. This means the key-value pairs could appear in a different order than they were inserted — because dictionaries were optimized for fast lookups, not for maintaining order.\n",
        "\n",
        "20. Explain the difference between a list and a dictionary in terms of data retrieval?\n",
        "\n",
        "       => In lists we can retrive data using indexing and slicing ex- list[0] but dictionaries retrive data using keys ex- dict[key_name]."
      ],
      "metadata": {
        "id": "Y_vVLnJYYk5p"
      }
    },
    {
      "cell_type": "markdown",
      "source": [
        "Practical Questions:-\n",
        "\n",
        "1. Write a code to create a string with your name and print it?"
      ],
      "metadata": {
        "id": "YeskUj6f6J5N"
      }
    },
    {
      "cell_type": "code",
      "execution_count": null,
      "metadata": {
        "id": "GLqWHZ5wYVNr",
        "colab": {
          "base_uri": "https://localhost:8080/"
        },
        "outputId": "1c489c0b-b38d-48b5-9beb-ba7d07c508ac"
      },
      "outputs": [
        {
          "output_type": "stream",
          "name": "stdout",
          "text": [
            "sumeet\n"
          ]
        }
      ],
      "source": [
        "string = \"sumeet\"\n",
        "print(string)"
      ]
    },
    {
      "cell_type": "markdown",
      "source": [
        "2. Write a code to find the length of the string \"Hello World?"
      ],
      "metadata": {
        "id": "mKIcf68y7vJ3"
      }
    },
    {
      "cell_type": "code",
      "source": [
        "x =\"hello world\"\n",
        "len(x)"
      ],
      "metadata": {
        "colab": {
          "base_uri": "https://localhost:8080/"
        },
        "id": "M7ftip2j7xlW",
        "outputId": "a1522144-41cd-49a4-890a-353454bde128"
      },
      "execution_count": null,
      "outputs": [
        {
          "output_type": "execute_result",
          "data": {
            "text/plain": [
              "11"
            ]
          },
          "metadata": {},
          "execution_count": 2
        }
      ]
    },
    {
      "cell_type": "markdown",
      "source": [
        "3. Write a code to slice the first 3 characters from the string \"Python Programming\"?"
      ],
      "metadata": {
        "id": "jsYcpf9P8GkK"
      }
    },
    {
      "cell_type": "code",
      "source": [
        "string = \"hello world\"\n",
        "string[0:2]"
      ],
      "metadata": {
        "colab": {
          "base_uri": "https://localhost:8080/",
          "height": 36
        },
        "id": "MHqpv_-k6Zk-",
        "outputId": "f4af23e2-1430-4f1b-950e-0d5b01ec342b"
      },
      "execution_count": null,
      "outputs": [
        {
          "output_type": "execute_result",
          "data": {
            "text/plain": [
              "'he'"
            ],
            "application/vnd.google.colaboratory.intrinsic+json": {
              "type": "string"
            }
          },
          "metadata": {},
          "execution_count": 3
        }
      ]
    },
    {
      "cell_type": "markdown",
      "source": [
        "4. Write a code to convert the string \"hello\" to uppercase?"
      ],
      "metadata": {
        "id": "vrnMzP0B8Vyt"
      }
    },
    {
      "cell_type": "code",
      "source": [
        "string = \"hello\"\n",
        "string.upper()"
      ],
      "metadata": {
        "colab": {
          "base_uri": "https://localhost:8080/",
          "height": 36
        },
        "id": "VvZml98k8c4w",
        "outputId": "02b78e11-6181-47a5-fa3a-1a9570efc043"
      },
      "execution_count": null,
      "outputs": [
        {
          "output_type": "execute_result",
          "data": {
            "text/plain": [
              "'HELLO'"
            ],
            "application/vnd.google.colaboratory.intrinsic+json": {
              "type": "string"
            }
          },
          "metadata": {},
          "execution_count": 4
        }
      ]
    },
    {
      "cell_type": "markdown",
      "source": [
        "5. Write a code to replace the word \"apple\" with \"orange\" in the string \"I like apple\"?"
      ],
      "metadata": {
        "id": "Q49UKNTd8sFK"
      }
    },
    {
      "cell_type": "code",
      "source": [
        "string = \"i like apple\"\n",
        "string.replace(\"apple\",\"orange\")"
      ],
      "metadata": {
        "colab": {
          "base_uri": "https://localhost:8080/",
          "height": 36
        },
        "id": "l9tCBJPy89iE",
        "outputId": "802b55fc-1dcc-46b9-a474-5489f621d940"
      },
      "execution_count": null,
      "outputs": [
        {
          "output_type": "execute_result",
          "data": {
            "text/plain": [
              "'i like orange'"
            ],
            "application/vnd.google.colaboratory.intrinsic+json": {
              "type": "string"
            }
          },
          "metadata": {},
          "execution_count": 6
        }
      ]
    },
    {
      "cell_type": "markdown",
      "source": [
        "6. P Write a code to create a list with numbers 1 to 5 and print it?"
      ],
      "metadata": {
        "id": "FDchdnYnj8ee"
      }
    },
    {
      "cell_type": "code",
      "source": [
        "lis_t = [1,2,3,4,5]\n",
        "print(lis_t)"
      ],
      "metadata": {
        "colab": {
          "base_uri": "https://localhost:8080/"
        },
        "id": "jSoF71nSkFid",
        "outputId": "13e5e985-fd53-451d-b053-273539ed2936"
      },
      "execution_count": null,
      "outputs": [
        {
          "output_type": "stream",
          "name": "stdout",
          "text": [
            "[1, 2, 3, 4, 5]\n"
          ]
        }
      ]
    },
    {
      "cell_type": "markdown",
      "source": [
        "7. Write a code to append the number 10 to the list [1, 2, 3, 4]?"
      ],
      "metadata": {
        "id": "7zwAotFylVZO"
      }
    },
    {
      "cell_type": "code",
      "source": [
        "lis_t = [1,2,3,4]\n",
        "lis_t.append(10)\n",
        "print(lis_t)"
      ],
      "metadata": {
        "colab": {
          "base_uri": "https://localhost:8080/"
        },
        "id": "QeXXwOQHlc5N",
        "outputId": "ce478f0d-f418-42b3-b9c9-9f97c5b1703f"
      },
      "execution_count": null,
      "outputs": [
        {
          "output_type": "stream",
          "name": "stdout",
          "text": [
            "[1, 2, 3, 4, 10]\n"
          ]
        }
      ]
    },
    {
      "cell_type": "markdown",
      "source": [
        "8. Write a code to remove the number 3 from the list [1, 2, 3, 4, 5]?"
      ],
      "metadata": {
        "id": "Mfg4NM7hlrps"
      }
    },
    {
      "cell_type": "code",
      "source": [
        "lis_t = [1,2,3,4,5]\n",
        "lis_t.remove(3)\n",
        "print(lis_t)"
      ],
      "metadata": {
        "colab": {
          "base_uri": "https://localhost:8080/"
        },
        "id": "tU0IyKVflxsY",
        "outputId": "c027354b-3a02-45a6-cf03-7d197ef645b9"
      },
      "execution_count": null,
      "outputs": [
        {
          "output_type": "stream",
          "name": "stdout",
          "text": [
            "[1, 2, 4, 5]\n"
          ]
        }
      ]
    },
    {
      "cell_type": "markdown",
      "source": [
        "9. Write a code to access the second element in the list ['a', 'b', 'c', 'd']?"
      ],
      "metadata": {
        "id": "fzibB1BEl_iQ"
      }
    },
    {
      "cell_type": "code",
      "source": [
        "lis_t = ['a','b','c','d']\n",
        "lis_t[1]"
      ],
      "metadata": {
        "colab": {
          "base_uri": "https://localhost:8080/",
          "height": 36
        },
        "id": "CuCwKrw2mGZd",
        "outputId": "55733cd2-7d4a-4f39-f835-54953d02f084"
      },
      "execution_count": null,
      "outputs": [
        {
          "output_type": "execute_result",
          "data": {
            "text/plain": [
              "'b'"
            ],
            "application/vnd.google.colaboratory.intrinsic+json": {
              "type": "string"
            }
          },
          "metadata": {},
          "execution_count": 6
        }
      ]
    },
    {
      "cell_type": "markdown",
      "source": [
        "10. Write a code to reverse the list [10, 20, 30, 40, 50]?"
      ],
      "metadata": {
        "id": "4ZdubTNtmP5x"
      }
    },
    {
      "cell_type": "code",
      "source": [
        "lis_t = [10,20,30,40,50]\n",
        "lis_t.reverse()\n",
        "print(lis_t)"
      ],
      "metadata": {
        "colab": {
          "base_uri": "https://localhost:8080/"
        },
        "id": "G09fj_GamXxK",
        "outputId": "04737573-f357-4567-8e2f-18e8c3d0e8be"
      },
      "execution_count": null,
      "outputs": [
        {
          "output_type": "stream",
          "name": "stdout",
          "text": [
            "[50, 40, 30, 20, 10]\n"
          ]
        }
      ]
    },
    {
      "cell_type": "markdown",
      "source": [
        "11. Write a code to create a tuple with the elements 100, 200, 300 and print it?"
      ],
      "metadata": {
        "id": "3OmzBzu5nOov"
      }
    },
    {
      "cell_type": "code",
      "source": [
        "tuple_1 = (100,200,300)\n",
        "print(tuple_1)"
      ],
      "metadata": {
        "colab": {
          "base_uri": "https://localhost:8080/"
        },
        "id": "Tl39cN-anYOV",
        "outputId": "675f588a-fc5a-4808-f859-e6a06115be37"
      },
      "execution_count": null,
      "outputs": [
        {
          "output_type": "stream",
          "name": "stdout",
          "text": [
            "(100, 200, 300)\n"
          ]
        }
      ]
    },
    {
      "cell_type": "markdown",
      "source": [
        "12. Write a code to access the second-to-last element of the tuple ('red', 'green', 'blue', 'yellow')?"
      ],
      "metadata": {
        "id": "xxuLR5GDnkGm"
      }
    },
    {
      "cell_type": "code",
      "source": [
        "tuple_2 =(\"red\",\"green\",\"blue\",\"yellow\")\n",
        "tuple_2[1:4]"
      ],
      "metadata": {
        "colab": {
          "base_uri": "https://localhost:8080/"
        },
        "id": "n4plEMKmnrAP",
        "outputId": "c02c540d-1b24-4940-cf38-bc767bd0e3a7"
      },
      "execution_count": 2,
      "outputs": [
        {
          "output_type": "execute_result",
          "data": {
            "text/plain": [
              "('green', 'blue', 'yellow')"
            ]
          },
          "metadata": {},
          "execution_count": 2
        }
      ]
    },
    {
      "cell_type": "markdown",
      "source": [
        "13. Write a code to find the minimum number in the tuple (10, 20, 5, 15)?"
      ],
      "metadata": {
        "id": "-D6yTZ8On_HQ"
      }
    },
    {
      "cell_type": "code",
      "source": [
        "tuple_3 = (10,20,5,15)\n",
        "min(tuple_3)"
      ],
      "metadata": {
        "colab": {
          "base_uri": "https://localhost:8080/"
        },
        "id": "KqGyXhQyoFYx",
        "outputId": "d5714542-4d70-485f-91cd-bd4db08060a5"
      },
      "execution_count": null,
      "outputs": [
        {
          "output_type": "execute_result",
          "data": {
            "text/plain": [
              "5"
            ]
          },
          "metadata": {},
          "execution_count": 10
        }
      ]
    },
    {
      "cell_type": "markdown",
      "source": [
        "14. Write a code to find the index of the element \"cat\" in the tuple ('dog', 'cat', 'rabbit')?"
      ],
      "metadata": {
        "id": "moqRugIVoMfi"
      }
    },
    {
      "cell_type": "code",
      "source": [
        "tuple_4 = (\"dog\",\"cat\",\"rabbit\")\n",
        "tuple_4.index(\"cat\")"
      ],
      "metadata": {
        "colab": {
          "base_uri": "https://localhost:8080/"
        },
        "id": "DZd7OmWFoVYJ",
        "outputId": "54f39fa3-b88c-4c1c-a9ae-3119ae4c5334"
      },
      "execution_count": null,
      "outputs": [
        {
          "output_type": "execute_result",
          "data": {
            "text/plain": [
              "1"
            ]
          },
          "metadata": {},
          "execution_count": 13
        }
      ]
    },
    {
      "cell_type": "markdown",
      "source": [
        "15. Write a code to create a tuple containing three different fruits and check if \"kiwi\" is in it?"
      ],
      "metadata": {
        "id": "UYwBiUBlo1hB"
      }
    },
    {
      "cell_type": "code",
      "source": [
        "tuple_5 = (\"apple\",\"orange\",\"kiwi\")\n",
        "\"kiwi\" in tuple_5"
      ],
      "metadata": {
        "colab": {
          "base_uri": "https://localhost:8080/"
        },
        "id": "fj1AdqTPo9O_",
        "outputId": "d566ecdb-2035-45e0-a6dc-30b27b590d00"
      },
      "execution_count": null,
      "outputs": [
        {
          "output_type": "execute_result",
          "data": {
            "text/plain": [
              "True"
            ]
          },
          "metadata": {},
          "execution_count": 14
        }
      ]
    },
    {
      "cell_type": "markdown",
      "source": [
        "16.  Write a code to create a set with the elements 'a', 'b', 'c' and print it?"
      ],
      "metadata": {
        "id": "sTLaEmympQQl"
      }
    },
    {
      "cell_type": "code",
      "source": [
        "set_1 = {\"a\",\"b\",\"c\"}\n",
        "print(set_1)"
      ],
      "metadata": {
        "colab": {
          "base_uri": "https://localhost:8080/"
        },
        "id": "LL9gxRUGpXHc",
        "outputId": "60d58854-6ab9-4d29-b23c-6597c017083b"
      },
      "execution_count": null,
      "outputs": [
        {
          "output_type": "stream",
          "name": "stdout",
          "text": [
            "{'a', 'b', 'c'}\n"
          ]
        }
      ]
    },
    {
      "cell_type": "markdown",
      "source": [
        "17. Write a code to clear all elements from the set {1, 2, 3, 4, 5}?"
      ],
      "metadata": {
        "id": "kOdNivZepgrI"
      }
    },
    {
      "cell_type": "code",
      "source": [
        "set_1 = {1,2,3,4,5}\n",
        "set_1.clear()\n",
        "print(set_1)"
      ],
      "metadata": {
        "colab": {
          "base_uri": "https://localhost:8080/"
        },
        "id": "4XCvKBjYpnVu",
        "outputId": "968db4a5-5443-4102-a116-9bebd1f6a002"
      },
      "execution_count": null,
      "outputs": [
        {
          "output_type": "stream",
          "name": "stdout",
          "text": [
            "set()\n"
          ]
        }
      ]
    },
    {
      "cell_type": "markdown",
      "source": [
        "18. Write a code to remove the element 4 from the set {1, 2, 3, 4}?"
      ],
      "metadata": {
        "id": "VjEK_ouoqWPH"
      }
    },
    {
      "cell_type": "code",
      "source": [
        "set_1 = {1,2,3,4,5}\n",
        "set_1.remove(4)\n",
        "print(set_1)"
      ],
      "metadata": {
        "colab": {
          "base_uri": "https://localhost:8080/"
        },
        "id": "ZDVInMX3qctF",
        "outputId": "b0d0d2f1-8d49-4cf6-cdbd-887c411ac6ca"
      },
      "execution_count": null,
      "outputs": [
        {
          "output_type": "stream",
          "name": "stdout",
          "text": [
            "{1, 2, 3, 5}\n"
          ]
        }
      ]
    },
    {
      "cell_type": "markdown",
      "source": [
        "19. Write a code to find the union of two sets {1, 2, 3} and {3, 4, 5}?"
      ],
      "metadata": {
        "id": "-XJlqg1JqllP"
      }
    },
    {
      "cell_type": "code",
      "source": [
        "union1 = {1,2,3}\n",
        "union2 ={3,4,5}\n",
        "union1 | union2"
      ],
      "metadata": {
        "colab": {
          "base_uri": "https://localhost:8080/"
        },
        "id": "uUzBe4Q_q2ki",
        "outputId": "402edaca-b3e7-44c5-e0d8-921f77209c9a"
      },
      "execution_count": null,
      "outputs": [
        {
          "output_type": "execute_result",
          "data": {
            "text/plain": [
              "{1, 2, 3, 4, 5}"
            ]
          },
          "metadata": {},
          "execution_count": 19
        }
      ]
    },
    {
      "cell_type": "markdown",
      "source": [
        "20. Write a code to find the intersection of two sets {1, 2, 3} and {2, 3, 4}?"
      ],
      "metadata": {
        "id": "Wcs1rmeNratC"
      }
    },
    {
      "cell_type": "code",
      "source": [
        "intersection_1 = {1,2,3}\n",
        "intersection_2 = {2,3,4}\n",
        "intersection_1 & intersection_2"
      ],
      "metadata": {
        "colab": {
          "base_uri": "https://localhost:8080/"
        },
        "id": "WWy2DbNUrh7C",
        "outputId": "18c315a8-bcf9-46bb-9f96-2ec86355d2ea"
      },
      "execution_count": null,
      "outputs": [
        {
          "output_type": "execute_result",
          "data": {
            "text/plain": [
              "{2, 3}"
            ]
          },
          "metadata": {},
          "execution_count": 20
        }
      ]
    },
    {
      "cell_type": "markdown",
      "source": [
        "21.  Write a code to create a dictionary with the keys \"name\", \"age\", and \"city\", and print it?"
      ],
      "metadata": {
        "id": "y-O8hQsK4f87"
      }
    },
    {
      "cell_type": "code",
      "source": [
        "dictonary = {\"name\":\"sumeet\",\"age\":22,\"city\":\"dheradun\"}\n",
        "print(dictonary)"
      ],
      "metadata": {
        "colab": {
          "base_uri": "https://localhost:8080/"
        },
        "id": "P1r_pkky4p1x",
        "outputId": "86e81464-603d-4161-9424-dcec7dd5d5ac"
      },
      "execution_count": null,
      "outputs": [
        {
          "output_type": "stream",
          "name": "stdout",
          "text": [
            "{'name': 'sumeet', 'age': 22, 'city': 'dheradun'}\n"
          ]
        }
      ]
    },
    {
      "cell_type": "markdown",
      "source": [
        "22. Write a code to add a new key-value pair \"country\": \"USA\" to the dictionary {'name': 'John', 'age': 25}?"
      ],
      "metadata": {
        "id": "3dMJfyKa5I-B"
      }
    },
    {
      "cell_type": "code",
      "source": [
        "dictonary ={\"name\":\"john\",\"age\":25}\n",
        "dictonary[\"country\"] = \"usa\"\n",
        "print(dictonary)"
      ],
      "metadata": {
        "colab": {
          "base_uri": "https://localhost:8080/"
        },
        "id": "oW-tQdUS4_xh",
        "outputId": "b2d1f87f-4e9d-4d8b-ccca-46aa8e1a121b"
      },
      "execution_count": null,
      "outputs": [
        {
          "output_type": "stream",
          "name": "stdout",
          "text": [
            "{'name': 'john', 'age': 25, 'country': 'usa'}\n"
          ]
        }
      ]
    },
    {
      "cell_type": "markdown",
      "source": [
        "23.  Write a code to access the value associated with the key \"name\" in the dictionary {'name': 'Alice', 'age': 30}."
      ],
      "metadata": {
        "id": "clJpXzxN9x-d"
      }
    },
    {
      "cell_type": "code",
      "source": [
        "dictonary = {\"name\": \"Alice\", \"age\": 30}\n",
        "dictonary[\"name\"]"
      ],
      "metadata": {
        "colab": {
          "base_uri": "https://localhost:8080/",
          "height": 36
        },
        "id": "-6u9S_JY93O0",
        "outputId": "2c5cd715-f4d1-4747-e402-fff6ddbccedf"
      },
      "execution_count": null,
      "outputs": [
        {
          "output_type": "execute_result",
          "data": {
            "text/plain": [
              "'Alice'"
            ],
            "application/vnd.google.colaboratory.intrinsic+json": {
              "type": "string"
            }
          },
          "metadata": {},
          "execution_count": 35
        }
      ]
    },
    {
      "cell_type": "markdown",
      "source": [
        "24.  Write a code to remove the key \"age\" from the dictionary {'name': 'Bob', 'age': 22, 'city': 'New York'}?"
      ],
      "metadata": {
        "id": "kaGmwh9w-6-C"
      }
    },
    {
      "cell_type": "code",
      "source": [
        "dict_2 = {'name': 'Bob', 'age': 22, 'city': 'New York'}\n",
        "dict_2.pop(\"age\")\n",
        "print(dict_2)"
      ],
      "metadata": {
        "colab": {
          "base_uri": "https://localhost:8080/"
        },
        "id": "JWync21W_gdh",
        "outputId": "4cb089c0-6bcb-4f8f-e93a-1e5483421c53"
      },
      "execution_count": null,
      "outputs": [
        {
          "output_type": "stream",
          "name": "stdout",
          "text": [
            "{'name': 'Bob', 'city': 'New York'}\n"
          ]
        }
      ]
    },
    {
      "cell_type": "markdown",
      "source": [
        "25. . Write a code to check if the key \"city\" exists in the dictionary {'name': 'Alice', 'city': 'Paris'}?"
      ],
      "metadata": {
        "id": "UXoI0oxr_43J"
      }
    },
    {
      "cell_type": "code",
      "source": [
        "dict3 = {'name': 'Alice', 'city': 'Paris'}\n",
        "dict3.keys()"
      ],
      "metadata": {
        "colab": {
          "base_uri": "https://localhost:8080/"
        },
        "id": "btFO-pF5ADlm",
        "outputId": "36f28f11-ec62-4ce5-975c-0962ab76ddba"
      },
      "execution_count": null,
      "outputs": [
        {
          "output_type": "execute_result",
          "data": {
            "text/plain": [
              "dict_keys(['name', 'city'])"
            ]
          },
          "metadata": {},
          "execution_count": 41
        }
      ]
    },
    {
      "cell_type": "code",
      "source": [],
      "metadata": {
        "id": "7lWs4SAG-G_e"
      },
      "execution_count": null,
      "outputs": []
    },
    {
      "cell_type": "markdown",
      "source": [
        "26.  Write a code to create a list, a tuple, and a dictionary, and print them all?"
      ],
      "metadata": {
        "id": "ihokyIDGA1wm"
      }
    },
    {
      "cell_type": "code",
      "source": [
        "dict4 = {\"name\": \"sumeet\", \"age\": 22}\n",
        "list5 = [\"apple\",\"mango\",1,1.5]\n",
        "tuple5 = (1,2,\"akash\")\n",
        "print(dict4)\n",
        "print(list5)\n",
        "print(tuple5)"
      ],
      "metadata": {
        "colab": {
          "base_uri": "https://localhost:8080/"
        },
        "id": "pjqYjl_LA9lv",
        "outputId": "59d7629e-97f8-48c6-9da3-6530e8bdc9cd"
      },
      "execution_count": null,
      "outputs": [
        {
          "output_type": "stream",
          "name": "stdout",
          "text": [
            "{'name': 'sumeet', 'age': 22}\n",
            "['apple', 'mango', 1, 1.5]\n",
            "(1, 2, 'akash')\n"
          ]
        }
      ]
    },
    {
      "cell_type": "markdown",
      "source": [
        "27.  Write a code to create a list of 5 random numbers between 1 and 100, sort it in ascending order, and print the result.(replaced).?"
      ],
      "metadata": {
        "id": "AtozdHn_B3rg"
      }
    },
    {
      "cell_type": "code",
      "source": [
        "list6 =[10,50,40,60,80]\n",
        "sorted(list6)"
      ],
      "metadata": {
        "colab": {
          "base_uri": "https://localhost:8080/"
        },
        "id": "8X50oGcTEC0L",
        "outputId": "715f81ed-00dc-4624-c5e1-a0f9291b4bf4"
      },
      "execution_count": null,
      "outputs": [
        {
          "output_type": "execute_result",
          "data": {
            "text/plain": [
              "[10, 40, 50, 60, 80]"
            ]
          },
          "metadata": {},
          "execution_count": 45
        }
      ]
    },
    {
      "cell_type": "markdown",
      "source": [
        "28.  Write a code to create a list with strings and print the element at the third index?"
      ],
      "metadata": {
        "id": "fvcwH86-EzQH"
      }
    },
    {
      "cell_type": "code",
      "source": [
        "list6 = [\"apple\",\"orange\",\"banana\"]\n",
        "list6[2]"
      ],
      "metadata": {
        "colab": {
          "base_uri": "https://localhost:8080/",
          "height": 36
        },
        "id": "9lF3AC-MGXd-",
        "outputId": "b1791ed1-21f8-4c8d-fe52-50facc58a525"
      },
      "execution_count": null,
      "outputs": [
        {
          "output_type": "execute_result",
          "data": {
            "text/plain": [
              "'banana'"
            ],
            "application/vnd.google.colaboratory.intrinsic+json": {
              "type": "string"
            }
          },
          "metadata": {},
          "execution_count": 46
        }
      ]
    },
    {
      "cell_type": "markdown",
      "source": [
        "29.  Write a code to combine two dictionaries into one and print the result?"
      ],
      "metadata": {
        "id": "GTQBCeKCGzbX"
      }
    },
    {
      "cell_type": "code",
      "source": [
        "students ={\"sumeet\",\"sahil\",\"rahul\"}\n",
        "marks = {80,50,60}\n",
        "{student:marks for student, marks in zip(students,marks)}"
      ],
      "metadata": {
        "colab": {
          "base_uri": "https://localhost:8080/"
        },
        "id": "QqYuYKr2G2bT",
        "outputId": "3617d228-ce1f-4757-afcb-5d44d7c873c6"
      },
      "execution_count": null,
      "outputs": [
        {
          "output_type": "execute_result",
          "data": {
            "text/plain": [
              "{'sumeet': 80, 'sahil': 50, 'rahul': 60}"
            ]
          },
          "metadata": {},
          "execution_count": 47
        }
      ]
    },
    {
      "cell_type": "markdown",
      "source": [
        "30.  Write a code to convert a list of strings into a set ?"
      ],
      "metadata": {
        "id": "24GL7LjzLhjF"
      }
    },
    {
      "cell_type": "code",
      "source": [
        "list_ = [\"akash\", \"abhay\", \"arjun\"]\n",
        "set(list_)"
      ],
      "metadata": {
        "id": "Q2HNAb2RBtIo",
        "colab": {
          "base_uri": "https://localhost:8080/"
        },
        "outputId": "f1c91b62-f8d6-4d22-f874-389c947dc6ad"
      },
      "execution_count": null,
      "outputs": [
        {
          "output_type": "execute_result",
          "data": {
            "text/plain": [
              "{'abhay', 'akash', 'arjun'}"
            ]
          },
          "metadata": {},
          "execution_count": 49
        }
      ]
    },
    {
      "cell_type": "code",
      "source": [],
      "metadata": {
        "id": "uAjaaUPkLv-5"
      },
      "execution_count": null,
      "outputs": []
    }
  ]
}