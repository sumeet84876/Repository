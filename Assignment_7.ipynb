{
  "nbformat": 4,
  "nbformat_minor": 0,
  "metadata": {
    "colab": {
      "provenance": []
    },
    "kernelspec": {
      "name": "python3",
      "display_name": "Python 3"
    },
    "language_info": {
      "name": "python"
    }
  },
  "cells": [
    {
      "cell_type": "markdown",
      "source": [
        "**Restful API & Flask**\n",
        "\n",
        "1. What is a RESTful API?\n",
        "\n",
        "=> A RESTful API is an Application Programming Interface that follows REST (Representational State Transfer) principles.\n",
        "Uses HTTP methods like GET, POST, PUT, DELETE for CRUD operations.\n",
        "Stateless: each request contains all necessary information.\n",
        "Data is usually transferred in JSON or XML.\n",
        "Example: GET /users → fetch users, POST /users → create user.\n",
        "\n",
        "2. Explain the concept of API specification.\n",
        "\n",
        "=> An API specification is a blueprint or contract for an API.\n",
        "It defines endpoints, request methods, parameters, request/response formats, and authentication.\n",
        "Tools: OpenAPI/Swagger.\n",
        "Benefits: Provides clarity, helps testing, ensures consistency across teams.\n",
        "\n",
        "3. What is Flask, and why is it popular for building APIs?\n",
        "\n",
        "=>Flask is a lightweight Python web framework.\n",
        "Reasons for popularity:\n",
        "Minimal and simple.\n",
        "Flexible, with many extensions.\n",
        "Built-in support for routing, requests, and responses.\n",
        "Easy to learn and integrate with databases.\n",
        "Strong community and documentation.\n",
        "\n",
        "4. What is routing in Flask?\n",
        "\n",
        "=> Routing is the process of mapping URLs to functions.\n",
        "Example:@app.route(\"/hello\")\n",
        "          def hello():\n",
        "          return \"Hello, World!\"\n",
        "Here /hello URL is linked to the hello() function.\n",
        "\n",
        "5. How do you create a simple Flask application?\n",
        "=> from flask import Flask\n",
        "app = Flask(__name__)\n",
        "@app.route(\"/\")\n",
        "def home():\n",
        "    return \"Hello Flask!\"\n",
        "if __name__ == \"__main__\":\n",
        "    app.run(debug=True)\n",
        "\n",
        "\n",
        "6. What are HTTP methods used in RESTful APIs?\n",
        "\n",
        "=> GET → Retrieve data.\n",
        "POST → Create new data.\n",
        "PUT → Replace existing data.\n",
        "PATCH → Update part of data.\n",
        "DELETE → Remove data.\n",
        "\n",
        "7. What is the purpose of the @app.route() decorator in Flask?\n",
        "\n",
        "=> It binds a URL path to a function.\n",
        "Example:\n",
        "@app.route(\"/about\")\n",
        "def about():\n",
        "    return \"About page\"\n",
        "\n",
        "8. What is the difference between GET and POST HTTP methods?\n",
        "\n",
        "=> GET:Retrieves data.\n",
        "Parameters in URL.\n",
        "Safe and idempotent.\n",
        "POST:Sends data to server.\n",
        "Data in request body.\n",
        "Creates resources, not idempotent.\n",
        "\n",
        "9. How do you handle errors in Flask APIs?\n",
        "\n",
        "=> Use error handlers with proper status codes.\n",
        "@app.errorhandler(404)\n",
        "def not_found(e):\n",
        "    return {\"error\": \"Resource not found\"}, 404\n",
        "Ensures clear error messages and debu.\n",
        "\n",
        "10. How do you connect Flask to a SQL database?\n",
        "\n",
        "=> Use Flask-SQLAlchemy:from flask_sqlalchemy import SQLAlchemy\n",
        "app.config[\"SQLALCHEMY_DATABASE_URI\"] = \"sqlite:///mydb.db\"\n",
        "db = SQLAlchemy(app)\n",
        "\n",
        "11. What is the role of Flask-SQLAlchemy?\n",
        "\n",
        "=> Provides an Object Relational Mapper (ORM).\n",
        "Lets developers work with Python classes instead of SQL queries.\n",
        "Simplifies database operations (create, read, update, delete).\n",
        "\n",
        "12. What are Flask blueprints, and how are they useful?\n",
        "\n",
        "=> Blueprints allow splitting an application into smaller, reusable modules.\n",
        "Helps manage large projects by grouping related routes.\n",
        "Example: auth, admin, api blueprints.\n",
        "\n",
        "13. What is the purpose of Flask's request object?\n",
        "\n",
        "=> The request object stores data from the client request:\n",
        "Form data: request.form\n",
        "Query parameters: request.args\n",
        "JSON body: request.json\n",
        "Headers, cookies, files\n",
        "\n",
        "14. How do you create a RESTful API endpoint using Flask?\n",
        "\n",
        "=> from flask import Flask, jsonify\n",
        "app = Flask(__name__)\n",
        "@app.route(\"/api/user\", methods=[\"GET\"])\n",
        "def get_user():\n",
        "    return jsonify({\"id\": 1, \"name\": \"sumeet\"})\n",
        "\n",
        "15. What is the purpose of Flask's jsonify() function?\n",
        "\n",
        "=> Converts Python dictionaries/lists into JSON format.\n",
        "Automatically sets response header to application/json.\n",
        "\n",
        "16. Explain Flask’s url_for() function.\n",
        "\n",
        "=> Generates URLs dynamically based on function names.\n",
        "Example:url_for(\"home\")       # returns \"/\"\n",
        "url_for(\"user\", id=5) # returns \"/user/5\"\n",
        "Prevents hardcoding of URLs.\n",
        "\n",
        "17. How does Flask handle static files (CSS, JavaScript, etc.)?\n",
        "\n",
        "=> Place files in a static/ folder.\n",
        "Access them using /static/filename.\n",
        "Example:<link rel=\"stylesheet\" href=\"{{ url_for('static', filename='style.css') }}\">\n",
        "\n",
        "\n",
        "18. What is an API specification, and how does it help in building a Flask API?\n",
        "\n",
        "=> Defines endpoints, request/response formats, authentication.\n",
        "Ensures consistency between backend and frontend.\n",
        "Helps in auto-generating docs and testing tools.\n",
        "\n",
        "19. What are HTTP status codes, and why are they important in a Flask API?\n",
        "\n",
        "=> Codes that indicate the result of a request:\n",
        "200 OK → Success\n",
        "201 Created → Resource created\n",
        "400 Bad Request → Invalid input\n",
        "401 Unauthorized → Login required\n",
        "404 Not Found → Missing resource\n",
        "Important for client error handling.\n",
        "\n",
        "20. How do you handle POST requests in Flask?\n",
        "from flask import request\n",
        "\n",
        "@app.route(\"/submit\", methods=[\"POST\"])\n",
        "def submit():\n",
        "    data = request.json  # or request.form\n",
        "    return {\"message\": \"Data received\", \"data\": data}\n",
        "\n",
        "21. How would you secure a Flask API?\n",
        "\n",
        "Use authentication & authorization (JWT, OAuth, API keys).\n",
        "\n",
        "Use HTTPS (SSL/TLS).\n",
        "\n",
        "Validate and sanitize user inputs.\n",
        "\n",
        "Use Flask extensions like Flask-JWT-Extended.\n",
        "\n",
        "22. What is the significance of the Flask-RESTful extension?\n",
        "\n",
        "Provides a structured way to build REST APIs.\n",
        "\n",
        "Adds features like Resource classes, request parsing, error handling.\n",
        "\n",
        "Example:\n",
        "\n",
        "from flask_restful import Api, Resource\n",
        "api = Api(app)\n",
        "\n",
        "class Hello(Resource):\n",
        "    def get(self):\n",
        "        return {\"message\": \"Hello\"}\n",
        "api.add_resource(Hello, \"/\")\n",
        "\n",
        "23. What is the role of Flask’s session object?\n",
        "\n",
        "Stores user-specific data across requests.\n",
        "\n",
        "Data stored in cookies (signed with secret key).\n",
        "\n",
        "Useful for authentication, temporary user data.\n",
        "\n",
        "from flask import session\n",
        "session[\"username\"] = \"Alice\""
      ],
      "metadata": {
        "id": "0I1nvG8Ef_Sa"
      }
    },
    {
      "cell_type": "markdown",
      "source": [
        "1. How do you create a basic Flask application?"
      ],
      "metadata": {
        "id": "s8QYzSVVjJdG"
      }
    },
    {
      "cell_type": "code",
      "execution_count": null,
      "metadata": {
        "colab": {
          "base_uri": "https://localhost:8080/"
        },
        "id": "ViehJ9_qfXzS",
        "outputId": "e40a748d-a826-4d34-e5c5-99aead5c0ad0"
      },
      "outputs": [
        {
          "output_type": "stream",
          "name": "stdout",
          "text": [
            " * Serving Flask app '__main__'\n",
            " * Debug mode: on\n"
          ]
        },
        {
          "output_type": "stream",
          "name": "stderr",
          "text": [
            "INFO:werkzeug:\u001b[31m\u001b[1mWARNING: This is a development server. Do not use it in a production deployment. Use a production WSGI server instead.\u001b[0m\n",
            " * Running on http://127.0.0.1:5000\n",
            "INFO:werkzeug:\u001b[33mPress CTRL+C to quit\u001b[0m\n",
            "INFO:werkzeug: * Restarting with watchdog (inotify)\n"
          ]
        }
      ],
      "source": [
        "from flask import Flask\n",
        "app = Flask(__name__)\n",
        "@app.route(\"/\")\n",
        "def home():\n",
        "    return \"Hello Flask!\"\n",
        "if __name__ == \"__main__\":\n",
        "    app.run(debug=True)\n"
      ]
    },
    {
      "cell_type": "markdown",
      "source": [
        "2. How do you serve static files like images or CSS in Flask?"
      ],
      "metadata": {
        "id": "-F_sW_isjpiv"
      }
    },
    {
      "cell_type": "code",
      "source": [
        "<link rel=\"stylesheet\" href=\"{{ url_for('static', filename='style.css') }}\">\n",
        "<img src=\"{{ url_for('static', filename='logo.png') }}\">"
      ],
      "metadata": {
        "id": "yMgTi4HSjdeQ"
      },
      "execution_count": null,
      "outputs": []
    },
    {
      "cell_type": "markdown",
      "source": [
        "3. How do you define different routes with different HTTP methods in Flask?"
      ],
      "metadata": {
        "id": "kq42iPgmkBkE"
      }
    },
    {
      "cell_type": "code",
      "source": [
        "@app.route(\"/submit\", methods=[\"GET\", \"POST\"])\n",
        "def submit():\n",
        "    if request.method == \"POST\":\n",
        "        return \"Form Submitted\"\n",
        "    return \"Submit Page\"\n"
      ],
      "metadata": {
        "id": "mRXEYmaxkESQ"
      },
      "execution_count": null,
      "outputs": []
    },
    {
      "cell_type": "markdown",
      "source": [
        "4. How do you render HTML templates in Flask?"
      ],
      "metadata": {
        "id": "eSDdEP2EkSoq"
      }
    },
    {
      "cell_type": "code",
      "source": [
        "from flask import render_template\n",
        "\n",
        "@app.route(\"/hello\")\n",
        "def hello():\n",
        "    return render_template(\"hello.html\", name=\"Alice\")\n"
      ],
      "metadata": {
        "id": "ca3n8qxGkt0n"
      },
      "execution_count": null,
      "outputs": []
    },
    {
      "cell_type": "markdown",
      "source": [
        "5. How can you generate URLs for routes in Flask using url_for()?"
      ],
      "metadata": {
        "id": "Q_WO0_JZlJkm"
      }
    },
    {
      "cell_type": "code",
      "source": [
        "from flask import url_for\n",
        "\n",
        "@app.route(\"/profile/<username>\")\n",
        "def profile(username):\n",
        "    return f\"Profile of {username}\"\n",
        "\n",
        "@app.route(\"/home\")\n",
        "def home():\n",
        "    return url_for(\"profile\", username=\"Alice\")\n"
      ],
      "metadata": {
        "id": "kNAtVEXkkvWE"
      },
      "execution_count": null,
      "outputs": []
    },
    {
      "cell_type": "markdown",
      "source": [
        "6. How do you handle forms in Flask?"
      ],
      "metadata": {
        "id": "415XU4CGlnH4"
      }
    },
    {
      "cell_type": "code",
      "source": [
        "from flask import request\n",
        "\n",
        "@app.route(\"/login\", methods=[\"GET\", \"POST\"])\n",
        "def login():\n",
        "    if request.method == \"POST\":\n",
        "        username = request.form[\"username\"]\n",
        "        return f\"Welcome {username}\"\n",
        "    return render_template(\"login.html\")\n"
      ],
      "metadata": {
        "id": "mIBczArHlrBa"
      },
      "execution_count": null,
      "outputs": []
    },
    {
      "cell_type": "markdown",
      "source": [
        "7. How can you validate form data in Flask?"
      ],
      "metadata": {
        "id": "-MFo_R_xltbJ"
      }
    },
    {
      "cell_type": "code",
      "source": [
        "@app.route(\"/register\", methods=[\"POST\"])\n",
        "def register():\n",
        "    email = request.form[\"email\"]\n",
        "    if \"@\" not in email:\n",
        "        return \"Invalid email\", 400\n",
        "    return \"Registered successfully\"\n"
      ],
      "metadata": {
        "id": "sLNf4fh_lvzk"
      },
      "execution_count": null,
      "outputs": []
    },
    {
      "cell_type": "markdown",
      "source": [
        "8. How do you manage sessions in Flask?"
      ],
      "metadata": {
        "id": "wb1idX67lyHn"
      }
    },
    {
      "cell_type": "code",
      "source": [
        "from flask import session\n",
        "\n",
        "app.secret_key = \"secret123\"  # Required for sessions\n",
        "\n",
        "@app.route(\"/set\")\n",
        "def set_session():\n",
        "    session[\"user\"] = \"Alice\"\n",
        "    return \"Session set\"\n",
        "\n",
        "@app.route(\"/get\")\n",
        "def get_session():\n",
        "    return session.get(\"user\", \"Guest\")\n"
      ],
      "metadata": {
        "id": "67ZGXYsEl0ng"
      },
      "execution_count": null,
      "outputs": []
    },
    {
      "cell_type": "markdown",
      "source": [
        "9. How do you redirect to a different route in Flask?"
      ],
      "metadata": {
        "id": "H_7Xn9VimL_k"
      }
    },
    {
      "cell_type": "code",
      "source": [
        "from flask import redirect, url_for\n",
        "\n",
        "@app.route(\"/old\")\n",
        "def old():\n",
        "    return redirect(url_for(\"new\"))\n",
        "\n",
        "@app.route(\"/new\")\n",
        "def new():\n",
        "    return \"New Page\"\n"
      ],
      "metadata": {
        "id": "C9QdW0z3mPiE"
      },
      "execution_count": null,
      "outputs": []
    },
    {
      "cell_type": "markdown",
      "source": [
        "10. How do you handle errors in Flask (e.g., 404)?"
      ],
      "metadata": {
        "id": "U-lYaj_RmOhD"
      }
    },
    {
      "cell_type": "code",
      "source": [
        "@app.errorhandler(404)\n",
        "def page_not_found(e):\n",
        "    return render_template(\"404.html\"), 404"
      ],
      "metadata": {
        "id": "0FZiBWVymUYb"
      },
      "execution_count": null,
      "outputs": []
    },
    {
      "cell_type": "markdown",
      "source": [
        "11. How do you structure a Flask app using Blueprints?"
      ],
      "metadata": {
        "id": "V7hmYQ2pmYRI"
      }
    },
    {
      "cell_type": "code",
      "source": [
        "from flask import Blueprint\n",
        "\n",
        "auth_bp = Blueprint(\"auth\", __name__, url_prefix=\"/auth\")\n",
        "\n",
        "@auth_bp.route(\"/login\")\n",
        "def login():\n",
        "    return \"Login Page\"\n"
      ],
      "metadata": {
        "id": "q-dFdN-_ma-p"
      },
      "execution_count": null,
      "outputs": []
    },
    {
      "cell_type": "markdown",
      "source": [
        "12. How do you define a custom Jinja filter in Flask?"
      ],
      "metadata": {
        "id": "lsxGViKimdu1"
      }
    },
    {
      "cell_type": "code",
      "source": [
        "@app.template_filter(\"reverse\")\n",
        "def reverse_filter(s):\n",
        "    return s[::-1]"
      ],
      "metadata": {
        "id": "OnVy_8evm50G"
      },
      "execution_count": null,
      "outputs": []
    },
    {
      "cell_type": "markdown",
      "source": [
        "13. How can you redirect with query parameters in Flask?"
      ],
      "metadata": {
        "id": "oVfVmmg9m8RD"
      }
    },
    {
      "cell_type": "code",
      "source": [
        "@app.route(\"/search\")\n",
        "def search():\n",
        "    return \"Search Page\"\n",
        "\n",
        "@app.route(\"/go\")\n",
        "def go():\n",
        "    return redirect(url_for(\"search\", q=\"flask\"))"
      ],
      "metadata": {
        "id": "Q5Awol-ynGbo"
      },
      "execution_count": null,
      "outputs": []
    },
    {
      "cell_type": "markdown",
      "source": [
        "14. How do you return JSON responses in Flask?"
      ],
      "metadata": {
        "id": "O2OD78YqnI_-"
      }
    },
    {
      "cell_type": "code",
      "source": [
        "from flask import jsonify\n",
        "\n",
        "@app.route(\"/api\")\n",
        "def api():\n",
        "    return jsonify({\"id\": 1, \"name\": \"Alice\"})"
      ],
      "metadata": {
        "id": "2iv2f_3hnLML"
      },
      "execution_count": null,
      "outputs": []
    },
    {
      "cell_type": "markdown",
      "source": [
        "15. How do you capture URL parameters in Flask?"
      ],
      "metadata": {
        "id": "jKezmj93nNmA"
      }
    },
    {
      "cell_type": "code",
      "source": [
        "@app.route(\"/user/<username>\")\n",
        "def user_profile(username):\n",
        "    return f\"Hello {username}\"\n",
        "\n",
        "@app.route(\"/post/<int:post_id>\")\n",
        "def show_post(post_id):\n",
        "    return f\"Post ID: {post_id}\""
      ],
      "metadata": {
        "id": "ffnkNFLSnRWm"
      },
      "execution_count": null,
      "outputs": []
    }
  ]
}