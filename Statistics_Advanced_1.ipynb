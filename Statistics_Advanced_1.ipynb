{
  "nbformat": 4,
  "nbformat_minor": 0,
  "metadata": {
    "colab": {
      "provenance": []
    },
    "kernelspec": {
      "name": "python3",
      "display_name": "Python 3"
    },
    "language_info": {
      "name": "python"
    }
  },
  "cells": [
    {
      "cell_type": "markdown",
      "source": [
        "**Statistics Advanced - 1 Assignment**\n",
        "\n",
        "Q1: What is a random variable in probability theory?\n",
        "Answer: A random variable is a variable whose possible values are outcomes of a random experiment, represented numerically.\n",
        "\n",
        "Q2: What are the types of random variables?\n",
        "Answer: Two main types:\n",
        "\n",
        "1. Discrete random variable – takes countable values (e.g., dice rolls).\n",
        "\n",
        "\n",
        "2. Continuous random variable – takes infinite values within an interval (e.g., height, weight).\n",
        "\n",
        "\n",
        "\n",
        "Q3: Explain the difference between discrete and continuous distributions.\n",
        "Answer:\n",
        "\n",
        "Discrete distribution: Probabilities are assigned to specific values (e.g., binomial, Poisson).\n",
        "\n",
        "Continuous distribution: Probabilities are assigned over intervals using density functions (e.g., normal, uniform).\n",
        "\n",
        "\n",
        "Q4: What is a binomial distribution, and how is it used in probability?\n",
        "Answer: Binomial distribution gives the probability of getting a fixed number of successes in a fixed number of independent trials, each with the same success probability. Used in scenarios like coin tosses, quality control, surveys, etc.\n",
        "\n",
        "Q5: What is the standard normal distribution, and why is it important?\n",
        "Answer: The standard normal distribution is a normal distribution with mean = 0 and standard deviation = 1. It’s important because it simplifies calculations, and many statistical tests rely on it (z-scores, hypothesis testing).\n",
        "\n",
        "Q6: What is the Central Limit Theorem (CLT), and why is it critical in statistics?\n",
        "Answer: CLT states that the sampling distribution of the sample mean approaches a normal distribution as the sample size grows, regardless of the population’s distribution. It’s critical because it allows us to use normal distribution methods in real-world data analysis.\n",
        "\n",
        "Q7: What is the significance of confidence intervals in statistical analysis?\n",
        "Answer: A confidence interval gives a range of values that likely contains the true population parameter (e.g., mean) with a certain confidence level (like 95%). It shows the reliability of an estimate.\n",
        "\n",
        "Q8: What is the concept of expected value in a probability distribution?\n",
        "Answer: Expected value is the long-run average outcome of a random variable. It’s calculated as the weighted average of all possible values using their probabilities.\n"
      ],
      "metadata": {
        "id": "uGsVCbUGPcaq"
      }
    },
    {
      "cell_type": "markdown",
      "source": [
        "Q9: 9: Write a Python program to generate 1000 random numbers from a normal\n",
        "distribution with mean = 50 and standard deviation = 5. Compute its mean and standard deviation using NumPy, and draw a histogram to visualize the distribution."
      ],
      "metadata": {
        "id": "oftlYAd4QrA7"
      }
    },
    {
      "cell_type": "code",
      "execution_count": 2,
      "metadata": {
        "colab": {
          "base_uri": "https://localhost:8080/",
          "height": 507
        },
        "id": "T8Vues1zPTvf",
        "outputId": "2776f559-44a5-4f09-bbb8-45d3a7a48b01"
      },
      "outputs": [
        {
          "output_type": "stream",
          "name": "stdout",
          "text": [
            "Mean: 49.863852041294585\n",
            "Standard Deviation: 5.3007407844921195\n"
          ]
        },
        {
          "output_type": "display_data",
          "data": {
            "text/plain": [
              "<Figure size 640x480 with 1 Axes>"
            ],
            "image/png": "[encoded data removed]"
          },
          "metadata": {}
        }
      ],
      "source": [
        "import numpy as np\n",
        "import matplotlib.pyplot as plt\n",
        "\n",
        "data = np.random.normal(loc=50, scale=5, size=1000)\n",
        "\n",
        "mean_val = np.mean(data)\n",
        "std_val = np.std(data)\n",
        "\n",
        "print(\"Mean:\", mean_val)\n",
        "print(\"Standard Deviation:\", std_val)\n",
        "\n",
        "plt.hist(data, bins=30, edgecolor='black')\n",
        "plt.title(\"Normal Distribution (mean=50, std=5)\")\n",
        "plt.xlabel(\"Value\")\n",
        "plt.ylabel(\"Frequency\")\n",
        "plt.show()"
      ]
    },
    {
      "cell_type": "markdown",
      "source": [
        "You are working as a data analyst for a retail company. The company has\n",
        "collected daily sales data for 2 years and wants you to identify the overall sales trend.\n",
        "daily_sales = [220, 245, 210, 265, 230, 250, 260, 275, 240, 255,\n",
        "235, 260, 245, 250, 225, 270, 265, 255, 250, 260]\n",
        "● Explain how you would apply the Central Limit Theorem to estimate the average sales\n",
        "with a 95% confidence interval.\n",
        "● Write the Python code to compute the mean sales and its confidence interval."
      ],
      "metadata": {
        "id": "0-zB5zYVRVeh"
      }
    },
    {
      "cell_type": "code",
      "source": [
        "import numpy as np\n",
        "import scipy.stats as st\n",
        "\n",
        "\n",
        "daily_sales = [220, 245, 210, 265, 230, 250, 260, 275, 240, 255,\n",
        "               235, 260, 245, 250, 225, 270, 265, 255, 250, 260]\n",
        "\n",
        "data = np.array(daily_sales)\n",
        "\n",
        "mean_sales = np.mean(data)\n",
        "sem = st.sem(data)\n",
        "\n",
        "\n",
        "confidence_interval = st.t.interval(0.95, len(data)-1, loc=mean_sales, scale=sem)\n",
        "\n",
        "print(\"Mean Sales:\", mean_sales)\n",
        "print(\"95% Confidence Interval:\", confidence_interval)"
      ],
      "metadata": {
        "colab": {
          "base_uri": "https://localhost:8080/"
        },
        "id": "yVThzhegQxjM",
        "outputId": "3a2ce9a1-a22c-428e-ce44-b55cda2d4e95"
      },
      "execution_count": 3,
      "outputs": [
        {
          "output_type": "stream",
          "name": "stdout",
          "text": [
            "Mean Sales: 248.25\n",
            "95% Confidence Interval: (np.float64(240.16957025147158), np.float64(256.3304297485284))\n"
          ]
        }
      ]
    },
    {
      "cell_type": "code",
      "source": [],
      "metadata": {
        "id": "z3WfQ8IoR1uk"
      },
      "execution_count": null,
      "outputs": []
    }
  ]
}